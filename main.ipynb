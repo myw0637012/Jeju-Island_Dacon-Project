{
  "nbformat": 4,
  "nbformat_minor": 0,
  "metadata": {
    "colab": {
      "name": "Jejuisland.ipynb",
      "provenance": [],
      "collapsed_sections": [],
      "toc_visible": true
    },
    "kernelspec": {
      "name": "python3",
      "display_name": "Python 3"
    }
  },
  "cells": [
    {
      "cell_type": "code",
      "metadata": {
        "id": "tHkLGJ8_v22a",
        "colab_type": "code",
        "colab": {
          "base_uri": "https://localhost:8080/",
          "height": 126
        },
        "outputId": "9e224e0b-f2c5-4f2f-ab37-044f5e12ee35"
      },
      "source": [
        "# Google Drive와 마운트\n",
        "from google.colab import drive\n",
        "ROOT = '/content/drive'\n",
        "drive.mount(ROOT)"
      ],
      "execution_count": null,
      "outputs": [
        {
          "output_type": "stream",
          "text": [
            "Go to this URL in a browser: https://accounts.google.com/o/oauth2/auth?client_id=947318989803-6bn6qk8qdgf4n4g3pfee6491hc0brc4i.apps.googleusercontent.com&redirect_uri=urn%3aietf%3awg%3aoauth%3a2.0%3aoob&response_type=code&scope=email%20https%3a%2f%2fwww.googleapis.com%2fauth%2fdocs.test%20https%3a%2f%2fwww.googleapis.com%2fauth%2fdrive%20https%3a%2f%2fwww.googleapis.com%2fauth%2fdrive.photos.readonly%20https%3a%2f%2fwww.googleapis.com%2fauth%2fpeopleapi.readonly\n",
            "\n",
            "Enter your authorization code:\n",
            "··········\n",
            "Mounted at /content/drive\n"
          ],
          "name": "stdout"
        }
      ]
    },
    {
      "cell_type": "code",
      "metadata": {
        "id": "1AGHjqPgv7_D",
        "colab_type": "code",
        "colab": {
          "base_uri": "https://localhost:8080/",
          "height": 34
        },
        "outputId": "342ef6ee-cfd7-4182-fa67-6a95e14da65f"
      },
      "source": [
        "# Project Folder 연결\n",
        "from os.path import join  \n",
        "\n",
        "MY_GOOGLE_DRIVE_PATH = 'My Drive/Colab Notebooks/hkit_301/data'\n",
        "PROJECT_PATH = join(ROOT, MY_GOOGLE_DRIVE_PATH)\n",
        "print(PROJECT_PATH)"
      ],
      "execution_count": null,
      "outputs": [
        {
          "output_type": "stream",
          "text": [
            "/content/drive/My Drive/Colab Notebooks/hkit_301/data\n"
          ],
          "name": "stdout"
        }
      ]
    },
    {
      "cell_type": "code",
      "metadata": {
        "id": "_rmQtmHYwEc4",
        "colab_type": "code",
        "colab": {
          "base_uri": "https://localhost:8080/",
          "height": 34
        },
        "outputId": "6c9327e5-645a-466c-8c02-d9937bc29d2b"
      },
      "source": [
        "%cd \"{PROJECT_PATH}\""
      ],
      "execution_count": null,
      "outputs": [
        {
          "output_type": "stream",
          "text": [
            "/content/drive/My Drive/Colab Notebooks/hkit_301/data\n"
          ],
          "name": "stdout"
        }
      ]
    },
    {
      "cell_type": "code",
      "metadata": {
        "id": "S1YpHXHAwFpI",
        "colab_type": "code",
        "colab": {
          "base_uri": "https://localhost:8080/",
          "height": 108
        },
        "outputId": "c00931dc-9d88-468d-92b8-3bf87438092b"
      },
      "source": [
        "import pandas as pd\n",
        "from pandas.io import gbq\n",
        "\n",
        "# import submission file in Google Drive\n",
        "submission = pd.read_csv('submission.csv')\n",
        "\n",
        "# Connect to Google Cloud API and Upload DataFrame\n",
        "submission.to_gbq(destination_table='jeju_data_ver1.submission', \n",
        "                  project_id='jeju-analy', \n",
        "                  if_exists='replace')\n",
        "\n",
        "# import submission file in Google Drive\n",
        "train = pd.read_csv('201901-202003.csv')\n",
        "\n",
        "# Connect to Google Cloud API and Upload DataFrame\n",
        "train.to_gbq(destination_table='jeju_data_ver1.201901_202003_train', \n",
        "                  project_id='jeju-analy', \n",
        "                  if_exists='replace')"
      ],
      "execution_count": null,
      "outputs": [
        {
          "output_type": "stream",
          "text": [
            "Please visit this URL to authorize this application: https://accounts.google.com/o/oauth2/auth?response_type=code&client_id=725825577420-unm2gnkiprugilg743tkbig250f4sfsj.apps.googleusercontent.com&redirect_uri=urn%3Aietf%3Awg%3Aoauth%3A2.0%3Aoob&scope=https%3A%2F%2Fwww.googleapis.com%2Fauth%2Fbigquery&state=lY5sXefaruSy6qBN6n5ZiudWhJOyIy&prompt=consent&access_type=offline\n",
            "Enter the authorization code: 4/2AH4s1Cn5x3pyA4uXeg-MVibxLyT9mJDAsX0KzE2AmyYtd4RHtjw9Xw\n"
          ],
          "name": "stdout"
        },
        {
          "output_type": "stream",
          "text": [
            "1it [00:02,  2.68s/it]\n",
            "1it [08:06, 486.94s/it]\n"
          ],
          "name": "stderr"
        }
      ]
    },
    {
      "cell_type": "code",
      "metadata": {
        "id": "aH1-l8oEG01c",
        "colab_type": "code",
        "colab": {
          "base_uri": "https://localhost:8080/",
          "height": 1000
        },
        "outputId": "4213edcb-9e59-469d-807c-d6d00d9c235f"
      },
      "source": [
        "!pip install https://github.com/pandas-profiling/pandas-profiling/archive/master.zip"
      ],
      "execution_count": null,
      "outputs": [
        {
          "output_type": "stream",
          "text": [
            "Collecting https://github.com/pandas-profiling/pandas-profiling/archive/master.zip\n",
            "\u001b[?25l  Downloading https://github.com/pandas-profiling/pandas-profiling/archive/master.zip\n",
            "\u001b[K     - 47.8MB 760kB/s\n",
            "\u001b[?25hRequirement already satisfied: joblib in /usr/local/lib/python3.6/dist-packages (from pandas-profiling==2.9.0rc1) (0.16.0)\n",
            "Requirement already satisfied: scipy>=1.4.1 in /usr/local/lib/python3.6/dist-packages (from pandas-profiling==2.9.0rc1) (1.4.1)\n",
            "Requirement already satisfied: pandas!=1.0.0,!=1.0.1,!=1.0.2,>=0.25.3 in /usr/local/lib/python3.6/dist-packages (from pandas-profiling==2.9.0rc1) (1.0.5)\n",
            "Requirement already satisfied: matplotlib>=3.2.0 in /usr/local/lib/python3.6/dist-packages (from pandas-profiling==2.9.0rc1) (3.2.2)\n",
            "Collecting confuse>=1.0.0\n",
            "\u001b[?25l  Downloading https://files.pythonhosted.org/packages/b5/6d/bedc0d1068bd244cee05843313cbec6cebb9f01f925538269bababc6d887/confuse-1.3.0-py2.py3-none-any.whl (64kB)\n",
            "\u001b[K     |████████████████████████████████| 71kB 1.9MB/s \n",
            "\u001b[?25hRequirement already satisfied: jinja2>=2.11.1 in /usr/local/lib/python3.6/dist-packages (from pandas-profiling==2.9.0rc1) (2.11.2)\n",
            "Collecting visions[type_image_path]==0.4.4\n",
            "\u001b[?25l  Downloading https://files.pythonhosted.org/packages/4a/03/5a45d542257830cf1d9da2cdc1c0bc6f55a9212937b70fdd6d7031b46d6c/visions-0.4.4-py3-none-any.whl (59kB)\n",
            "\u001b[K     |████████████████████████████████| 61kB 3.0MB/s \n",
            "\u001b[?25hRequirement already satisfied: numpy>=1.16.0 in /usr/local/lib/python3.6/dist-packages (from pandas-profiling==2.9.0rc1) (1.18.5)\n",
            "Requirement already satisfied: attrs>=19.3.0 in /usr/local/lib/python3.6/dist-packages (from pandas-profiling==2.9.0rc1) (19.3.0)\n",
            "Collecting htmlmin>=0.1.12\n",
            "  Downloading https://files.pythonhosted.org/packages/b3/e7/fcd59e12169de19f0131ff2812077f964c6b960e7c09804d30a7bf2ab461/htmlmin-0.1.12.tar.gz\n",
            "Requirement already satisfied: missingno>=0.4.2 in /usr/local/lib/python3.6/dist-packages (from pandas-profiling==2.9.0rc1) (0.4.2)\n",
            "Collecting phik>=0.9.10\n",
            "\u001b[?25l  Downloading https://files.pythonhosted.org/packages/01/5a/7ef1c04ce62cd72f900c06298dc2385840550d5c653a0dbc19109a5477e6/phik-0.10.0-py3-none-any.whl (599kB)\n",
            "\u001b[K     |████████████████████████████████| 604kB 4.4MB/s \n",
            "\u001b[?25hCollecting tangled-up-in-unicode>=0.0.6\n",
            "\u001b[?25l  Downloading https://files.pythonhosted.org/packages/4a/e2/e588ab9298d4989ce7fdb2b97d18aac878d99dbdc379a4476a09d9271b68/tangled_up_in_unicode-0.0.6-py3-none-any.whl (3.1MB)\n",
            "\u001b[K     |████████████████████████████████| 3.1MB 7.8MB/s \n",
            "\u001b[?25hRequirement already satisfied: requests>=2.23.0 in /usr/local/lib/python3.6/dist-packages (from pandas-profiling==2.9.0rc1) (2.23.0)\n",
            "Collecting tqdm>=4.43.0\n",
            "\u001b[?25l  Downloading https://files.pythonhosted.org/packages/af/88/7b0ea5fa8192d1733dea459a9e3059afc87819cb4072c43263f2ec7ab768/tqdm-4.48.0-py2.py3-none-any.whl (67kB)\n",
            "\u001b[K     |████████████████████████████████| 71kB 6.2MB/s \n",
            "\u001b[?25hRequirement already satisfied: ipywidgets>=7.5.1 in /usr/local/lib/python3.6/dist-packages (from pandas-profiling==2.9.0rc1) (7.5.1)\n",
            "Requirement already satisfied: seaborn>=0.10.1 in /usr/local/lib/python3.6/dist-packages (from pandas-profiling==2.9.0rc1) (0.10.1)\n",
            "Requirement already satisfied: pytz>=2017.2 in /usr/local/lib/python3.6/dist-packages (from pandas!=1.0.0,!=1.0.1,!=1.0.2,>=0.25.3->pandas-profiling==2.9.0rc1) (2018.9)\n",
            "Requirement already satisfied: python-dateutil>=2.6.1 in /usr/local/lib/python3.6/dist-packages (from pandas!=1.0.0,!=1.0.1,!=1.0.2,>=0.25.3->pandas-profiling==2.9.0rc1) (2.8.1)\n",
            "Requirement already satisfied: pyparsing!=2.0.4,!=2.1.2,!=2.1.6,>=2.0.1 in /usr/local/lib/python3.6/dist-packages (from matplotlib>=3.2.0->pandas-profiling==2.9.0rc1) (2.4.7)\n",
            "Requirement already satisfied: cycler>=0.10 in /usr/local/lib/python3.6/dist-packages (from matplotlib>=3.2.0->pandas-profiling==2.9.0rc1) (0.10.0)\n",
            "Requirement already satisfied: kiwisolver>=1.0.1 in /usr/local/lib/python3.6/dist-packages (from matplotlib>=3.2.0->pandas-profiling==2.9.0rc1) (1.2.0)\n",
            "Requirement already satisfied: pyyaml in /usr/local/lib/python3.6/dist-packages (from confuse>=1.0.0->pandas-profiling==2.9.0rc1) (3.13)\n",
            "Requirement already satisfied: MarkupSafe>=0.23 in /usr/local/lib/python3.6/dist-packages (from jinja2>=2.11.1->pandas-profiling==2.9.0rc1) (1.1.1)\n",
            "Requirement already satisfied: networkx>=2.4 in /usr/local/lib/python3.6/dist-packages (from visions[type_image_path]==0.4.4->pandas-profiling==2.9.0rc1) (2.4)\n",
            "Collecting imagehash; extra == \"type_image_path\"\n",
            "\u001b[?25l  Downloading https://files.pythonhosted.org/packages/1a/5d/cc81830be3c4705a46cdbca74439b67f1017881383ba0127c41c4cecb7b3/ImageHash-4.1.0.tar.gz (291kB)\n",
            "\u001b[K     |████████████████████████████████| 296kB 25.5MB/s \n",
            "\u001b[?25hRequirement already satisfied: Pillow; extra == \"type_image_path\" in /usr/local/lib/python3.6/dist-packages (from visions[type_image_path]==0.4.4->pandas-profiling==2.9.0rc1) (7.0.0)\n",
            "Requirement already satisfied: numba>=0.38.1 in /usr/local/lib/python3.6/dist-packages (from phik>=0.9.10->pandas-profiling==2.9.0rc1) (0.48.0)\n",
            "Requirement already satisfied: chardet<4,>=3.0.2 in /usr/local/lib/python3.6/dist-packages (from requests>=2.23.0->pandas-profiling==2.9.0rc1) (3.0.4)\n",
            "Requirement already satisfied: idna<3,>=2.5 in /usr/local/lib/python3.6/dist-packages (from requests>=2.23.0->pandas-profiling==2.9.0rc1) (2.10)\n",
            "Requirement already satisfied: urllib3!=1.25.0,!=1.25.1,<1.26,>=1.21.1 in /usr/local/lib/python3.6/dist-packages (from requests>=2.23.0->pandas-profiling==2.9.0rc1) (1.24.3)\n",
            "Requirement already satisfied: certifi>=2017.4.17 in /usr/local/lib/python3.6/dist-packages (from requests>=2.23.0->pandas-profiling==2.9.0rc1) (2020.6.20)\n",
            "Requirement already satisfied: traitlets>=4.3.1 in /usr/local/lib/python3.6/dist-packages (from ipywidgets>=7.5.1->pandas-profiling==2.9.0rc1) (4.3.3)\n",
            "Requirement already satisfied: nbformat>=4.2.0 in /usr/local/lib/python3.6/dist-packages (from ipywidgets>=7.5.1->pandas-profiling==2.9.0rc1) (5.0.7)\n",
            "Requirement already satisfied: widgetsnbextension~=3.5.0 in /usr/local/lib/python3.6/dist-packages (from ipywidgets>=7.5.1->pandas-profiling==2.9.0rc1) (3.5.1)\n",
            "Requirement already satisfied: ipykernel>=4.5.1 in /usr/local/lib/python3.6/dist-packages (from ipywidgets>=7.5.1->pandas-profiling==2.9.0rc1) (4.10.1)\n",
            "Requirement already satisfied: ipython>=4.0.0; python_version >= \"3.3\" in /usr/local/lib/python3.6/dist-packages (from ipywidgets>=7.5.1->pandas-profiling==2.9.0rc1) (5.5.0)\n",
            "Requirement already satisfied: six>=1.5 in /usr/local/lib/python3.6/dist-packages (from python-dateutil>=2.6.1->pandas!=1.0.0,!=1.0.1,!=1.0.2,>=0.25.3->pandas-profiling==2.9.0rc1) (1.12.0)\n",
            "Requirement already satisfied: decorator>=4.3.0 in /usr/local/lib/python3.6/dist-packages (from networkx>=2.4->visions[type_image_path]==0.4.4->pandas-profiling==2.9.0rc1) (4.4.2)\n",
            "Requirement already satisfied: PyWavelets in /usr/local/lib/python3.6/dist-packages (from imagehash; extra == \"type_image_path\"->visions[type_image_path]==0.4.4->pandas-profiling==2.9.0rc1) (1.1.1)\n",
            "Requirement already satisfied: setuptools in /usr/local/lib/python3.6/dist-packages (from numba>=0.38.1->phik>=0.9.10->pandas-profiling==2.9.0rc1) (49.1.0)\n",
            "Requirement already satisfied: llvmlite<0.32.0,>=0.31.0dev0 in /usr/local/lib/python3.6/dist-packages (from numba>=0.38.1->phik>=0.9.10->pandas-profiling==2.9.0rc1) (0.31.0)\n",
            "Requirement already satisfied: ipython-genutils in /usr/local/lib/python3.6/dist-packages (from traitlets>=4.3.1->ipywidgets>=7.5.1->pandas-profiling==2.9.0rc1) (0.2.0)\n",
            "Requirement already satisfied: jupyter-core in /usr/local/lib/python3.6/dist-packages (from nbformat>=4.2.0->ipywidgets>=7.5.1->pandas-profiling==2.9.0rc1) (4.6.3)\n",
            "Requirement already satisfied: jsonschema!=2.5.0,>=2.4 in /usr/local/lib/python3.6/dist-packages (from nbformat>=4.2.0->ipywidgets>=7.5.1->pandas-profiling==2.9.0rc1) (2.6.0)\n",
            "Requirement already satisfied: notebook>=4.4.1 in /usr/local/lib/python3.6/dist-packages (from widgetsnbextension~=3.5.0->ipywidgets>=7.5.1->pandas-profiling==2.9.0rc1) (5.2.2)\n",
            "Requirement already satisfied: jupyter-client in /usr/local/lib/python3.6/dist-packages (from ipykernel>=4.5.1->ipywidgets>=7.5.1->pandas-profiling==2.9.0rc1) (5.3.5)\n",
            "Requirement already satisfied: tornado>=4.0 in /usr/local/lib/python3.6/dist-packages (from ipykernel>=4.5.1->ipywidgets>=7.5.1->pandas-profiling==2.9.0rc1) (4.5.3)\n",
            "Requirement already satisfied: pygments in /usr/local/lib/python3.6/dist-packages (from ipython>=4.0.0; python_version >= \"3.3\"->ipywidgets>=7.5.1->pandas-profiling==2.9.0rc1) (2.1.3)\n",
            "Requirement already satisfied: pexpect; sys_platform != \"win32\" in /usr/local/lib/python3.6/dist-packages (from ipython>=4.0.0; python_version >= \"3.3\"->ipywidgets>=7.5.1->pandas-profiling==2.9.0rc1) (4.8.0)\n",
            "Requirement already satisfied: prompt-toolkit<2.0.0,>=1.0.4 in /usr/local/lib/python3.6/dist-packages (from ipython>=4.0.0; python_version >= \"3.3\"->ipywidgets>=7.5.1->pandas-profiling==2.9.0rc1) (1.0.18)\n",
            "Requirement already satisfied: pickleshare in /usr/local/lib/python3.6/dist-packages (from ipython>=4.0.0; python_version >= \"3.3\"->ipywidgets>=7.5.1->pandas-profiling==2.9.0rc1) (0.7.5)\n",
            "Requirement already satisfied: simplegeneric>0.8 in /usr/local/lib/python3.6/dist-packages (from ipython>=4.0.0; python_version >= \"3.3\"->ipywidgets>=7.5.1->pandas-profiling==2.9.0rc1) (0.8.1)\n",
            "Requirement already satisfied: nbconvert in /usr/local/lib/python3.6/dist-packages (from notebook>=4.4.1->widgetsnbextension~=3.5.0->ipywidgets>=7.5.1->pandas-profiling==2.9.0rc1) (5.6.1)\n",
            "Requirement already satisfied: terminado>=0.3.3; sys_platform != \"win32\" in /usr/local/lib/python3.6/dist-packages (from notebook>=4.4.1->widgetsnbextension~=3.5.0->ipywidgets>=7.5.1->pandas-profiling==2.9.0rc1) (0.8.3)\n",
            "Requirement already satisfied: pyzmq>=13 in /usr/local/lib/python3.6/dist-packages (from jupyter-client->ipykernel>=4.5.1->ipywidgets>=7.5.1->pandas-profiling==2.9.0rc1) (19.0.1)\n",
            "Requirement already satisfied: ptyprocess>=0.5 in /usr/local/lib/python3.6/dist-packages (from pexpect; sys_platform != \"win32\"->ipython>=4.0.0; python_version >= \"3.3\"->ipywidgets>=7.5.1->pandas-profiling==2.9.0rc1) (0.6.0)\n",
            "Requirement already satisfied: wcwidth in /usr/local/lib/python3.6/dist-packages (from prompt-toolkit<2.0.0,>=1.0.4->ipython>=4.0.0; python_version >= \"3.3\"->ipywidgets>=7.5.1->pandas-profiling==2.9.0rc1) (0.2.5)\n",
            "Requirement already satisfied: mistune<2,>=0.8.1 in /usr/local/lib/python3.6/dist-packages (from nbconvert->notebook>=4.4.1->widgetsnbextension~=3.5.0->ipywidgets>=7.5.1->pandas-profiling==2.9.0rc1) (0.8.4)\n",
            "Requirement already satisfied: bleach in /usr/local/lib/python3.6/dist-packages (from nbconvert->notebook>=4.4.1->widgetsnbextension~=3.5.0->ipywidgets>=7.5.1->pandas-profiling==2.9.0rc1) (3.1.5)\n",
            "Requirement already satisfied: defusedxml in /usr/local/lib/python3.6/dist-packages (from nbconvert->notebook>=4.4.1->widgetsnbextension~=3.5.0->ipywidgets>=7.5.1->pandas-profiling==2.9.0rc1) (0.6.0)\n",
            "Requirement already satisfied: pandocfilters>=1.4.1 in /usr/local/lib/python3.6/dist-packages (from nbconvert->notebook>=4.4.1->widgetsnbextension~=3.5.0->ipywidgets>=7.5.1->pandas-profiling==2.9.0rc1) (1.4.2)\n",
            "Requirement already satisfied: entrypoints>=0.2.2 in /usr/local/lib/python3.6/dist-packages (from nbconvert->notebook>=4.4.1->widgetsnbextension~=3.5.0->ipywidgets>=7.5.1->pandas-profiling==2.9.0rc1) (0.3)\n",
            "Requirement already satisfied: testpath in /usr/local/lib/python3.6/dist-packages (from nbconvert->notebook>=4.4.1->widgetsnbextension~=3.5.0->ipywidgets>=7.5.1->pandas-profiling==2.9.0rc1) (0.4.4)\n",
            "Requirement already satisfied: webencodings in /usr/local/lib/python3.6/dist-packages (from bleach->nbconvert->notebook>=4.4.1->widgetsnbextension~=3.5.0->ipywidgets>=7.5.1->pandas-profiling==2.9.0rc1) (0.5.1)\n",
            "Requirement already satisfied: packaging in /usr/local/lib/python3.6/dist-packages (from bleach->nbconvert->notebook>=4.4.1->widgetsnbextension~=3.5.0->ipywidgets>=7.5.1->pandas-profiling==2.9.0rc1) (20.4)\n",
            "Building wheels for collected packages: pandas-profiling, htmlmin, imagehash\n",
            "  Building wheel for pandas-profiling (setup.py) ... \u001b[?25l\u001b[?25hdone\n",
            "  Created wheel for pandas-profiling: filename=pandas_profiling-2.9.0rc1-py2.py3-none-any.whl size=258106 sha256=8646d4e3a91fd31983d20e16e2d27e22a549b6e0ba3c659bca694bfc6358255b\n",
            "  Stored in directory: /tmp/pip-ephem-wheel-cache-z7f55vns/wheels/56/c2/dd/8d945b0443c35df7d5f62fa9e9ae105a2d8b286302b92e0109\n",
            "  Building wheel for htmlmin (setup.py) ... \u001b[?25l\u001b[?25hdone\n",
            "  Created wheel for htmlmin: filename=htmlmin-0.1.12-cp36-none-any.whl size=27084 sha256=eaadee1af5409e99f7f52cdf605dbc8d3ada5b6bb89c3c0a13cc5e8f9925fd24\n",
            "  Stored in directory: /root/.cache/pip/wheels/43/07/ac/7c5a9d708d65247ac1f94066cf1db075540b85716c30255459\n",
            "  Building wheel for imagehash (setup.py) ... \u001b[?25l\u001b[?25hdone\n",
            "  Created wheel for imagehash: filename=ImageHash-4.1.0-py2.py3-none-any.whl size=291990 sha256=d5e9357a9b910d3a0dde55a54f9f184048d97ffbadd4fb22e804ae3d4dfc0eaf\n",
            "  Stored in directory: /root/.cache/pip/wheels/07/1c/dc/6831446f09feb8cc199ec73a0f2f0703253f6ae013a22f4be9\n",
            "Successfully built pandas-profiling htmlmin imagehash\n",
            "Installing collected packages: confuse, tangled-up-in-unicode, imagehash, visions, htmlmin, phik, tqdm, pandas-profiling\n",
            "  Found existing installation: tqdm 4.41.1\n",
            "    Uninstalling tqdm-4.41.1:\n",
            "      Successfully uninstalled tqdm-4.41.1\n",
            "  Found existing installation: pandas-profiling 1.4.1\n",
            "    Uninstalling pandas-profiling-1.4.1:\n",
            "      Successfully uninstalled pandas-profiling-1.4.1\n",
            "Successfully installed confuse-1.3.0 htmlmin-0.1.12 imagehash-4.1.0 pandas-profiling-2.9.0rc1 phik-0.10.0 tangled-up-in-unicode-0.0.6 tqdm-4.48.0 visions-0.4.4\n"
          ],
          "name": "stdout"
        },
        {
          "output_type": "display_data",
          "data": {
            "application/vnd.colab-display-data+json": {
              "pip_warning": {
                "packages": [
                  "pandas_profiling",
                  "tqdm"
                ]
              }
            }
          },
          "metadata": {
            "tags": []
          }
        }
      ]
    },
    {
      "cell_type": "code",
      "metadata": {
        "id": "rk0X0Cg9HRi8",
        "colab_type": "code",
        "colab": {}
      },
      "source": [
        ""
      ],
      "execution_count": null,
      "outputs": []
    },
    {
      "cell_type": "code",
      "metadata": {
        "id": "j87uoaRVLIB0",
        "colab_type": "code",
        "colab": {}
      },
      "source": [
        ""
      ],
      "execution_count": null,
      "outputs": []
    },
    {
      "cell_type": "markdown",
      "metadata": {
        "id": "LUazHCJpke3J",
        "colab_type": "text"
      },
      "source": [
        "# XGboost 설치\n",
        "- 설치방법은 여러가지가 있다. (Conda, Pypl)\n",
        "- 자세한 내용은 설치가이드를 참조하기를 바란다.\n",
        "- 다행히, Google Colab에서는 자유롭게 사용할 수 있다"
      ]
    },
    {
      "cell_type": "code",
      "metadata": {
        "id": "2XIJArn1kIkh",
        "colab_type": "code",
        "colab": {
          "base_uri": "https://localhost:8080/",
          "height": 35
        },
        "outputId": "7de27c3b-df53-46e1-d15d-b8954d56d1db"
      },
      "source": [
        "from xgboost import XGBRegressor\n",
        "import xgboost\n",
        "print(xgboost.__version__)"
      ],
      "execution_count": null,
      "outputs": [
        {
          "output_type": "stream",
          "text": [
            "0.90\n"
          ],
          "name": "stdout"
        }
      ]
    },
    {
      "cell_type": "markdown",
      "metadata": {
        "id": "2w5DKQK_kita",
        "colab_type": "text"
      },
      "source": [
        "# XGboost 기본 실습\n",
        "- 본 데이터에서 적용하기 전, 간단하게 회귀모형을 만들고 예측하는 코드를 작성한다."
      ]
    },
    {
      "cell_type": "code",
      "metadata": {
        "id": "mjrZODXxkHvE",
        "colab_type": "code",
        "colab": {
          "base_uri": "https://localhost:8080/",
          "height": 179
        },
        "outputId": "d965ea8e-b563-4d76-a756-a940fbbd4ca5"
      },
      "source": [
        "# 데이터셋 분리\n",
        "from sklearn.model_selection import train_test_split\n",
        "\n",
        "# 데이터 수집\n",
        "from sklearn.datasets import load_boston\n",
        "\n",
        "# 평가 메트릭\n",
        "from sklearn.metrics import mean_squared_error, mean_absolute_error\n",
        "\n",
        "# 데이터 수집\n",
        "boston = load_boston()\n",
        "x, y = boston.data, boston.target\n",
        "\n",
        "# 데이터 분리\n",
        "X_train, X_test, y_train, y_test=train_test_split(x, y, test_size=0.15, random_state = 1)\n",
        "\n",
        "xgb_reg = XGBRegressor(verbosity=0) \n",
        "print(xgb_reg)\n",
        "\n",
        "xgb_reg.fit(X_train, y_train)\n",
        "score = xgb_reg.score(X_train, y_train)  \n",
        "print(\"Training score: \", score)\n",
        "\n",
        "y_pred = xgb_reg.predict(X_test)\n",
        "mse = mean_squared_error(y_test, y_pred)\n",
        "print(\"MSE: %.2f\" % mse)"
      ],
      "execution_count": null,
      "outputs": [
        {
          "output_type": "stream",
          "text": [
            "XGBRegressor(base_score=0.5, booster='gbtree', colsample_bylevel=1,\n",
            "             colsample_bynode=1, colsample_bytree=1, gamma=0,\n",
            "             importance_type='gain', learning_rate=0.1, max_delta_step=0,\n",
            "             max_depth=3, min_child_weight=1, missing=None, n_estimators=100,\n",
            "             n_jobs=1, nthread=None, objective='reg:linear', random_state=0,\n",
            "             reg_alpha=0, reg_lambda=1, scale_pos_weight=1, seed=None,\n",
            "             silent=None, subsample=1, verbosity=0)\n",
            "Training score:  0.9749120480780799\n",
            "MSE: 7.22\n"
          ],
          "name": "stdout"
        }
      ]
    },
    {
      "cell_type": "markdown",
      "metadata": {
        "id": "AKC6IX5Uk36S",
        "colab_type": "text"
      },
      "source": [
        "# LightGBM 개요\n",
        "- LightGBM과 XGBoost의 가장 큰 차이점은 연산속도이다.\n",
        "- 기존의 GBM계열은 균형 트리 분할 방법(Level Wise)을 사용한다.\n",
        "  - 기존 방식에서는 보통 균형 잡힌 트리(Level Wise)를 채택하는데, 그 이유는   - 오버피팅에 보다 더 강한 구조를 가질 수 있다고 알려져 있기 때문이다.\n",
        "  - 그러나, 이는 시간이 더 많이 필요하다는 단점이 있다.\n",
        "- LightGBM은 Leaf 중심 트리 분할 방식을 사용한다.\n",
        "  - 트리의 균형을 맞추지 않고, 최대 손실 값(max delta loss)을 가지는 리프 노드를 지속적으로 분할한다.\n",
        "  - 최대 손실값을 찾아서 리프 노드를 지속적으로 분할해 생성된 규칙 드리를 학습할수록 결국은 균형 트리 분할 방식보다 예측 오류 손실을 최소화 할 수 있다.\n",
        "- 또 다른 특징은, GPU를 지원하고 있고, 병렬 컴퓨팅 기능을 제공하고 있다.\n",
        "- 이는 대용량 데이터를 학습할 때, 보다 빠르게 학습시킬 수 있음을 의미한다.\n"
      ]
    },
    {
      "cell_type": "markdown",
      "metadata": {
        "id": "TrlC6ZzHlO3q",
        "colab_type": "text"
      },
      "source": [
        "# LightGBM 설치\n",
        "- 설치방법은 OS마다 다르기 때문에 공식 설치 문서를 참조한다.\n",
        "- 다행히 구글 Colab에서도 lightgbm을 사용할 수 있다."
      ]
    },
    {
      "cell_type": "code",
      "metadata": {
        "id": "KpkO72jkkL-R",
        "colab_type": "code",
        "colab": {
          "base_uri": "https://localhost:8080/",
          "height": 35
        },
        "outputId": "bbccf389-645d-40d8-a50b-594c93732cf1"
      },
      "source": [
        "import lightgbm\n",
        "from lightgbm import LGBMRegressor\n",
        "print(lightgbm.__version__)"
      ],
      "execution_count": null,
      "outputs": [
        {
          "output_type": "stream",
          "text": [
            "2.2.3\n"
          ],
          "name": "stdout"
        }
      ]
    },
    {
      "cell_type": "markdown",
      "metadata": {
        "id": "jQqssn6xlXCb",
        "colab_type": "text"
      },
      "source": [
        "# LightGBM 실습\n",
        "- 본 데이터에서 적용하기 전, 간단하게 회귀모형을 만들고 예측하는 코드를 작성한다."
      ]
    },
    {
      "cell_type": "code",
      "metadata": {
        "id": "VqmT3N69lXpy",
        "colab_type": "code",
        "colab": {
          "base_uri": "https://localhost:8080/",
          "height": 179
        },
        "outputId": "eb449f61-5dd7-409d-8ce3-cf3054eb9da3"
      },
      "source": [
        "# 데이터셋 분리\n",
        "from sklearn.model_selection import train_test_split\n",
        "\n",
        "# 데이터 수집\n",
        "from sklearn.datasets import load_boston\n",
        "\n",
        "# 평가 메트릭\n",
        "from sklearn.metrics import mean_squared_error, mean_absolute_error\n",
        "\n",
        "# 데이터 수집\n",
        "boston = load_boston()\n",
        "x, y = boston.data, boston.target\n",
        "\n",
        "# 데이터 분리\n",
        "X_training, X_testing, y_training, y_testing = train_test_split(x, y, test_size=0.15, random_state = 1)\n",
        "\n",
        "lgb_reg = LGBMRegressor(verbosity=0) \n",
        "print(lgb_reg)\n",
        "\n",
        "lgb_reg.fit(X_training, y_training)\n",
        "score = lgb_reg.score(X_training, y_training)  \n",
        "print(\"Training score: \", score)\n",
        "\n",
        "y_pred = lgb_reg.predict(X_testing)\n",
        "mse = mean_squared_error(y_testing, y_pred)\n",
        "print(\"MSE: %.2f\" % mse)"
      ],
      "execution_count": null,
      "outputs": [
        {
          "output_type": "stream",
          "text": [
            "LGBMRegressor(boosting_type='gbdt', class_weight=None, colsample_bytree=1.0,\n",
            "              importance_type='split', learning_rate=0.1, max_depth=-1,\n",
            "              min_child_samples=20, min_child_weight=0.001, min_split_gain=0.0,\n",
            "              n_estimators=100, n_jobs=-1, num_leaves=31, objective=None,\n",
            "              random_state=None, reg_alpha=0.0, reg_lambda=0.0, silent=True,\n",
            "              subsample=1.0, subsample_for_bin=200000, subsample_freq=0,\n",
            "              verbosity=0)\n",
            "Training score:  0.9799082762820248\n",
            "MSE: 9.44\n"
          ],
          "name": "stdout"
        }
      ]
    },
    {
      "cell_type": "markdown",
      "metadata": {
        "id": "KiOfxLMvlj3r",
        "colab_type": "text"
      },
      "source": [
        "# 스태킹(Stacking) 알고리즘\n",
        "- D. H. Wolpert(1992)가 Stacked Generalization이름으로 처음 제안함\n",
        "\n",
        "  - 그후 2015년에 Kaggle 대회에서 소개되면서 퍼지기 시작함\n",
        "  - ref. https://wolpert.readthedocs.io/en/latest/user_guide/intro.html\n",
        "- 개별적인 여러 알고리즘을 서로 결합해 예측 결과를 도출한다.\n",
        "\n",
        "- 개별 알고리즘으로 예측한 데이터를 기반으로 다시 예측을 수행함"
      ]
    },
    {
      "cell_type": "markdown",
      "metadata": {
        "id": "kb9pcRO1lqL1",
        "colab_type": "text"
      },
      "source": [
        "- 스태킹은 크게 두 종류의 모델이 필요함\n",
        "\n",
        "  - 개별적인 기반 모델 (SVM, Randomforest, etc)\n",
        "  - 개별 기반 모델의 예측 데이터를 학습 데이터로 만들어서 학습하는 최종 메타 모델\n",
        "  - 스테킹 모델의 핵심은 여러 개별 모델의 예측 데이터를 각각 스태킹 형태로 결합 최종 메티 모델의 학습용 피처 데이터 세트와 테스트용 피처 데이터 세트를 만드는 것.\n",
        "- 단, 현실 모델에 적용하는 많지 않으나, 캐글과 같은 대회에서는 자주 사용된다고 함.\n",
        "\n",
        "  - 성능 수치를 올리는 것이 중요함"
      ]
    },
    {
      "cell_type": "markdown",
      "metadata": {
        "id": "vZS3G2Nulq3r",
        "colab_type": "text"
      },
      "source": [
        "# 스태킹 알고리즘 개념 예제\n",
        "- 간단한 예제를 통해 원리를 확인한다.\n",
        "  - 소스코드 참조: 파이썬 머신러닝 가이드 (p.280)"
      ]
    },
    {
      "cell_type": "code",
      "metadata": {
        "id": "dEHf5cvYlXti",
        "colab_type": "code",
        "colab": {
          "base_uri": "https://localhost:8080/",
          "height": 89
        },
        "outputId": "e02aacd6-cacc-4a2a-afee-5d45c2afcb02"
      },
      "source": [
        "import numpy as np\n",
        "\n",
        "from sklearn.neighbors import KNeighborsClassifier\n",
        "from sklearn.ensemble import RandomForestClassifier\n",
        "from sklearn.ensemble import AdaBoostClassifier\n",
        "from sklearn.tree import DecisionTreeClassifier\n",
        "from sklearn.linear_model import LogisticRegression\n",
        "\n",
        "from sklearn.datasets import load_breast_cancer\n",
        "from sklearn.model_selection import train_test_split\n",
        "from sklearn.metrics import accuracy_score\n",
        "\n",
        "cancer_data = load_breast_cancer()\n",
        "\n",
        "X_data = cancer_data.data\n",
        "y_label = cancer_data.target\n",
        "\n",
        "X_training , X_testing , y_training , y_testing = train_test_split(X_data , y_label , test_size=0.2 , random_state=0)\n",
        "\n",
        "# 개별 ML 모델을 위한 Classifier 생성.\n",
        "knn_clf  = KNeighborsClassifier(n_neighbors=4)\n",
        "rf_clf = RandomForestClassifier(n_estimators=100, random_state=0)\n",
        "dt_clf = DecisionTreeClassifier()\n",
        "ada_clf = AdaBoostClassifier(n_estimators=100)\n",
        "\n",
        "# 최종 Stacking 모델을 위한 Classifier생성. \n",
        "lr_final = LogisticRegression(C=10)\n",
        "\n",
        "# 개별 모델들을 학습. \n",
        "knn_clf.fit(X_training, y_training)\n",
        "rf_clf.fit(X_training , y_training)\n",
        "dt_clf.fit(X_training , y_training)\n",
        "ada_clf.fit(X_training, y_training)\n",
        "\n",
        "# 학습된 개별 모델들이 각자 반환하는 예측 데이터 셋을 생성하고 개별 모델의 정확도 측정. \n",
        "knn_pred = knn_clf.predict(X_testing)\n",
        "rf_pred = rf_clf.predict(X_testing)\n",
        "dt_pred = dt_clf.predict(X_testing)\n",
        "ada_pred = ada_clf.predict(X_testing)\n",
        "\n",
        "print('KNN 정확도: {0:.4f}'.format(accuracy_score(y_testing, knn_pred)))\n",
        "print('랜덤 포레스트 정확도: {0:.4f}'.format(accuracy_score(y_testing, rf_pred)))\n",
        "print('결정 트리 정확도: {0:.4f}'.format(accuracy_score(y_testing, dt_pred)))\n",
        "print('에이다부스트 정확도: {0:.4f} :'.format(accuracy_score(y_testing, ada_pred)))"
      ],
      "execution_count": null,
      "outputs": [
        {
          "output_type": "stream",
          "text": [
            "KNN 정확도: 0.9211\n",
            "랜덤 포레스트 정확도: 0.9649\n",
            "결정 트리 정확도: 0.9123\n",
            "에이다부스트 정확도: 0.9561 :\n"
          ],
          "name": "stdout"
        }
      ]
    },
    {
      "cell_type": "code",
      "metadata": {
        "id": "AJ1j13VIl3U7",
        "colab_type": "code",
        "colab": {
          "base_uri": "https://localhost:8080/",
          "height": 71
        },
        "outputId": "8ba56ec4-2b6a-4dde-fb58-e631bcde406d"
      },
      "source": [
        "pred = np.array([knn_pred, rf_pred, dt_pred, ada_pred])\n",
        "print(pred.shape)\n",
        "\n",
        "# transpose를 이용해 행과 열의 위치 교환. 컬럼 레벨로 각 알고리즘의 예측 결과를 피처로 만듦. \n",
        "pred = np.transpose(pred)\n",
        "print(pred.shape)\n",
        "\n",
        "lr_final.fit(pred, y_testing)\n",
        "final = lr_final.predict(pred)\n",
        "\n",
        "print('최종 메타 모델의 예측 정확도: {0:.4f}'.format(accuracy_score(y_testing , final)))"
      ],
      "execution_count": null,
      "outputs": [
        {
          "output_type": "stream",
          "text": [
            "(4, 114)\n",
            "(114, 4)\n",
            "최종 메타 모델의 예측 정확도: 0.9737\n"
          ],
          "name": "stdout"
        }
      ]
    },
    {
      "cell_type": "markdown",
      "metadata": {
        "id": "nPu3cdtkl9Oz",
        "colab_type": "text"
      },
      "source": [
        "- 분류 모형이지만, 최종 메타 모델의 예측 정확도가 보다 향상 된 것을 확인할 수 있다.\n",
        "- 또 다른 예제는 Ensemble Prediction이라고 한다."
      ]
    },
    {
      "cell_type": "markdown",
      "metadata": {
        "id": "soWvYi2hl9Ri",
        "colab_type": "text"
      },
      "source": [
        "# III. 빅쿼리 연동\n",
        "- 지난 시간에 데이콘에서 내려받은 데이터를 빅쿼리에 넣는 작업을 진행하였다.\n",
        "- 빅쿼리에 저장된 데이터를 구글 코랩으로 불러오려면 다음과 같이 진행한다."
      ]
    },
    {
      "cell_type": "markdown",
      "metadata": {
        "id": "wT3rE2StmJrD",
        "colab_type": "text"
      },
      "source": [
        "## (1) 사용자 계정 인증\n",
        "구글 코랩을 사용해서 인증 절차를 밟도록 한다. 아래 소스코드는 변경시키지 않는다. 아래 절차대로 진행하면 된다. Gmail 인증 절차와 비슷하다.\n",
        "\n"
      ]
    },
    {
      "cell_type": "code",
      "metadata": {
        "id": "FOIAIoX-LKly",
        "colab_type": "code",
        "colab": {
          "base_uri": "https://localhost:8080/",
          "height": 35
        },
        "outputId": "796ed85c-8a17-4afc-cdad-c65e27bcadcf"
      },
      "source": [
        "from google.colab import auth\n",
        "auth.authenticate_user()\n",
        "print('Authenticated')"
      ],
      "execution_count": null,
      "outputs": [
        {
          "output_type": "stream",
          "text": [
            "Authenticated\n"
          ],
          "name": "stdout"
        }
      ]
    },
    {
      "cell_type": "code",
      "metadata": {
        "id": "7eY3Ay34LIEs",
        "colab_type": "code",
        "colab": {
          "base_uri": "https://localhost:8080/",
          "height": 269
        },
        "outputId": "a64671a0-389d-4cf0-dcb3-d2cff7b76d15"
      },
      "source": [
        "from google.cloud import bigquery\n",
        "from tabulate import tabulate\n",
        "import pandas as pd\n",
        "\n",
        "project_id = 'jeju-analy'\n",
        "client = bigquery.Client(project=project_id)\n",
        "\n",
        "train = client.query('''\n",
        "  SELECT \n",
        "    * \n",
        "  FROM `jeju-analy.jeju_data_ver1.201901_202003_train` \n",
        "  LIMIT 1000\n",
        "  ''').to_dataframe()\n",
        "\n",
        "print(train)"
      ],
      "execution_count": null,
      "outputs": [
        {
          "output_type": "stream",
          "text": [
            "     REG_YYMM CARD_SIDO_NM CARD_CCG_NM  ... CSTMR_CNT     AMT CNT\n",
            "0      201901           서울         서초구  ...         9   99200  28\n",
            "1      201902           강원         강릉시  ...         3   14800   3\n",
            "2      201902           강원         태백시  ...         3   33000   3\n",
            "3      201902           강원         홍천군  ...        29  264260  47\n",
            "4      201903           강원         강릉시  ...        17  127850  18\n",
            "..        ...          ...         ...  ...       ...     ...  ..\n",
            "995    202003           강원         원주시  ...        32  328250  35\n",
            "996    202003           강원         인제군  ...         5   49700   7\n",
            "997    202003           강원         태백시  ...         5   92800   9\n",
            "998    201909           강원         동해시  ...         9   45570   9\n",
            "999    201910           강원         강릉시  ...         3   25500   3\n",
            "\n",
            "[1000 rows x 12 columns]\n"
          ],
          "name": "stdout"
        }
      ]
    },
    {
      "cell_type": "code",
      "metadata": {
        "id": "4y3uekXPD4A4",
        "colab_type": "code",
        "colab": {}
      },
      "source": [
        "import pandas as pd\n",
        "import numpy as np\n",
        "import sklearn\n",
        "from sklearn.ensemble import GradientBoostingRegressor\n",
        "from sklearn.preprocessing import LabelEncoder\n",
        "\n",
        "# 03 Chapter에서 추가\n",
        "# 평가 메트릭\n",
        "from sklearn.metrics import mean_squared_error, mean_absolute_error\n",
        "\n",
        "# 시각화\n",
        "import seaborn as sns\n",
        "color = sns.color_palette()\n",
        "sns.set_style('darkgrid')\n",
        "%matplotlib inline\n",
        "import matplotlib\n",
        "import matplotlib.pyplot as plt  # Matlab-style plotting\n",
        "\n",
        "# 통계\n",
        "from scipy import stats\n",
        "from scipy.stats import norm, skew #for some statistics\n",
        "\n",
        "# 06 Chapter 추가\n",
        "from sklearn.base import BaseEstimator, TransformerMixin, RegressorMixin, clone\n",
        "from sklearn.model_selection import KFold, cross_val_score, train_test_split, GridSearchCV\n",
        "from sklearn.metrics import mean_squared_error"
      ],
      "execution_count": null,
      "outputs": []
    },
    {
      "cell_type": "code",
      "metadata": {
        "id": "yyLMD_5MFBd7",
        "colab_type": "code",
        "colab": {
          "base_uri": "https://localhost:8080/",
          "height": 125
        },
        "outputId": "2d451c71-5cf5-41f8-851f-719da4ce51e2"
      },
      "source": [
        "print('Pandas : %s'%(pd.__version__))\n",
        "print('Numpy : %s'%(np.__version__))\n",
        "print('Scikit-Learn : %s'%(sklearn.__version__))\n",
        "print('seaborn : %s'%(sns.__version__))\n",
        "print('matplotlib : %s'%(matplotlib.__version__))\n",
        "!python --version"
      ],
      "execution_count": null,
      "outputs": [
        {
          "output_type": "stream",
          "text": [
            "Pandas : 1.0.5\n",
            "Numpy : 1.18.5\n",
            "Scikit-Learn : 0.22.2.post1\n",
            "seaborn : 0.10.1\n",
            "matplotlib : 3.2.2\n",
            "Python 3.6.9\n"
          ],
          "name": "stdout"
        }
      ]
    },
    {
      "cell_type": "markdown",
      "metadata": {
        "id": "sIacBLBFShza",
        "colab_type": "text"
      },
      "source": [
        "날짜 데이터 전처리\n",
        "- 데이터 전처리 기본함수 작성\n",
        "- 우선 날짜 처리를 먼저 진행한다.\n",
        "  - year & month 로 구분"
      ]
    },
    {
      "cell_type": "code",
      "metadata": {
        "id": "QlsfFohrSeXk",
        "colab_type": "code",
        "colab": {}
      },
      "source": [
        "def grap_year(data): # year 구분\n",
        "  data = str(data)\n",
        "  return int(data[:4])\n",
        "\n",
        "def grap_month(data):\n",
        "  data = str(data)\n",
        "  return int(data[4:])"
      ],
      "execution_count": null,
      "outputs": []
    },
    {
      "cell_type": "code",
      "metadata": {
        "id": "oX909ZMOSzHG",
        "colab_type": "code",
        "colab": {
          "base_uri": "https://localhost:8080/",
          "height": 647
        },
        "outputId": "7de1a601-7bdf-4228-f53d-2cc98f1ee9fd"
      },
      "source": [
        "# 날짜 처리\n",
        "data = train.copy()\n",
        "print(data)\n",
        "data = data.fillna('') # Nan값을 바꿔줌. 빈값으로\n",
        "print(data['REG_YYMM'].head(20)) "
      ],
      "execution_count": null,
      "outputs": [
        {
          "output_type": "stream",
          "text": [
            "     REG_YYMM CARD_SIDO_NM CARD_CCG_NM  ... CSTMR_CNT     AMT CNT\n",
            "0      201901           서울         서초구  ...         9   99200  28\n",
            "1      201902           강원         강릉시  ...         3   14800   3\n",
            "2      201902           강원         태백시  ...         3   33000   3\n",
            "3      201902           강원         홍천군  ...        29  264260  47\n",
            "4      201903           강원         강릉시  ...        17  127850  18\n",
            "..        ...          ...         ...  ...       ...     ...  ..\n",
            "995    202003           강원         원주시  ...        32  328250  35\n",
            "996    202003           강원         인제군  ...         5   49700   7\n",
            "997    202003           강원         태백시  ...         5   92800   9\n",
            "998    201909           강원         동해시  ...         9   45570   9\n",
            "999    201910           강원         강릉시  ...         3   25500   3\n",
            "\n",
            "[1000 rows x 12 columns]\n",
            "0     201901\n",
            "1     201902\n",
            "2     201902\n",
            "3     201902\n",
            "4     201903\n",
            "5     201904\n",
            "6     201905\n",
            "7     201906\n",
            "8     201907\n",
            "9     201907\n",
            "10    201901\n",
            "11    201903\n",
            "12    201903\n",
            "13    201903\n",
            "14    201903\n",
            "15    201903\n",
            "16    201904\n",
            "17    201907\n",
            "18    201901\n",
            "19    201901\n",
            "Name: REG_YYMM, dtype: int64\n"
          ],
          "name": "stdout"
        }
      ]
    },
    {
      "cell_type": "code",
      "metadata": {
        "id": "2laU0_YmS10k",
        "colab_type": "code",
        "colab": {
          "base_uri": "https://localhost:8080/",
          "height": 292
        },
        "outputId": "90bc33be-22fa-4fe5-9f06-29c96abb1405"
      },
      "source": [
        "data['year'] = data['REG_YYMM'].apply(lambda x: grap_year(x))\n",
        "data['month'] = data['REG_YYMM'].apply(lambda x: grap_month(x))\n",
        "data = data.drop(['REG_YYMM'], axis=1)\n",
        "data.head()"
      ],
      "execution_count": null,
      "outputs": [
        {
          "output_type": "execute_result",
          "data": {
            "text/html": [
              "<div>\n",
              "<style scoped>\n",
              "    .dataframe tbody tr th:only-of-type {\n",
              "        vertical-align: middle;\n",
              "    }\n",
              "\n",
              "    .dataframe tbody tr th {\n",
              "        vertical-align: top;\n",
              "    }\n",
              "\n",
              "    .dataframe thead th {\n",
              "        text-align: right;\n",
              "    }\n",
              "</style>\n",
              "<table border=\"1\" class=\"dataframe\">\n",
              "  <thead>\n",
              "    <tr style=\"text-align: right;\">\n",
              "      <th></th>\n",
              "      <th>CARD_SIDO_NM</th>\n",
              "      <th>CARD_CCG_NM</th>\n",
              "      <th>STD_CLSS_NM</th>\n",
              "      <th>HOM_SIDO_NM</th>\n",
              "      <th>HOM_CCG_NM</th>\n",
              "      <th>AGE</th>\n",
              "      <th>SEX_CTGO_CD</th>\n",
              "      <th>FLC</th>\n",
              "      <th>CSTMR_CNT</th>\n",
              "      <th>AMT</th>\n",
              "      <th>CNT</th>\n",
              "      <th>year</th>\n",
              "      <th>month</th>\n",
              "    </tr>\n",
              "  </thead>\n",
              "  <tbody>\n",
              "    <tr>\n",
              "      <th>0</th>\n",
              "      <td>서울</td>\n",
              "      <td>서초구</td>\n",
              "      <td>버스 운송업</td>\n",
              "      <td>강원</td>\n",
              "      <td>화천군</td>\n",
              "      <td>10s</td>\n",
              "      <td>2</td>\n",
              "      <td>1</td>\n",
              "      <td>9</td>\n",
              "      <td>99200</td>\n",
              "      <td>28</td>\n",
              "      <td>2019</td>\n",
              "      <td>1</td>\n",
              "    </tr>\n",
              "    <tr>\n",
              "      <th>1</th>\n",
              "      <td>강원</td>\n",
              "      <td>강릉시</td>\n",
              "      <td>비알콜 음료점업</td>\n",
              "      <td>강원</td>\n",
              "      <td>원주시</td>\n",
              "      <td>10s</td>\n",
              "      <td>2</td>\n",
              "      <td>1</td>\n",
              "      <td>3</td>\n",
              "      <td>14800</td>\n",
              "      <td>3</td>\n",
              "      <td>2019</td>\n",
              "      <td>2</td>\n",
              "    </tr>\n",
              "    <tr>\n",
              "      <th>2</th>\n",
              "      <td>강원</td>\n",
              "      <td>태백시</td>\n",
              "      <td>비알콜 음료점업</td>\n",
              "      <td>강원</td>\n",
              "      <td>태백시</td>\n",
              "      <td>10s</td>\n",
              "      <td>1</td>\n",
              "      <td>1</td>\n",
              "      <td>3</td>\n",
              "      <td>33000</td>\n",
              "      <td>3</td>\n",
              "      <td>2019</td>\n",
              "      <td>2</td>\n",
              "    </tr>\n",
              "    <tr>\n",
              "      <th>3</th>\n",
              "      <td>강원</td>\n",
              "      <td>홍천군</td>\n",
              "      <td>체인화 편의점</td>\n",
              "      <td>강원</td>\n",
              "      <td>홍천군</td>\n",
              "      <td>10s</td>\n",
              "      <td>2</td>\n",
              "      <td>1</td>\n",
              "      <td>29</td>\n",
              "      <td>264260</td>\n",
              "      <td>47</td>\n",
              "      <td>2019</td>\n",
              "      <td>2</td>\n",
              "    </tr>\n",
              "    <tr>\n",
              "      <th>4</th>\n",
              "      <td>강원</td>\n",
              "      <td>강릉시</td>\n",
              "      <td>빵 및 과자류 소매업</td>\n",
              "      <td>강원</td>\n",
              "      <td>강릉시</td>\n",
              "      <td>10s</td>\n",
              "      <td>2</td>\n",
              "      <td>1</td>\n",
              "      <td>17</td>\n",
              "      <td>127850</td>\n",
              "      <td>18</td>\n",
              "      <td>2019</td>\n",
              "      <td>3</td>\n",
              "    </tr>\n",
              "  </tbody>\n",
              "</table>\n",
              "</div>"
            ],
            "text/plain": [
              "  CARD_SIDO_NM CARD_CCG_NM  STD_CLSS_NM HOM_SIDO_NM  ...     AMT CNT  year  month\n",
              "0           서울         서초구       버스 운송업          강원  ...   99200  28  2019      1\n",
              "1           강원         강릉시     비알콜 음료점업          강원  ...   14800   3  2019      2\n",
              "2           강원         태백시     비알콜 음료점업          강원  ...   33000   3  2019      2\n",
              "3           강원         홍천군      체인화 편의점          강원  ...  264260  47  2019      2\n",
              "4           강원         강릉시  빵 및 과자류 소매업          강원  ...  127850  18  2019      3\n",
              "\n",
              "[5 rows x 13 columns]"
            ]
          },
          "metadata": {
            "tags": []
          },
          "execution_count": 29
        }
      ]
    },
    {
      "cell_type": "markdown",
      "metadata": {
        "id": "CkS99mr2S5mK",
        "colab_type": "text"
      },
      "source": [
        "시군구 컬럼제거\n",
        "- submission 제출파일 목록에서 시/도 는 해당되나 , 시군구 항목은 해당되지 않음\n",
        "- 따라서, 해당칼럼 삭제"
      ]
    },
    {
      "cell_type": "code",
      "metadata": {
        "id": "7yaJ6BN63mFX",
        "colab_type": "code",
        "colab": {
          "base_uri": "https://localhost:8080/",
          "height": 269
        },
        "outputId": "82934dae-794f-44f7-8129-3a0a1956b2b3"
      },
      "source": [
        "# 데이터 정제\n",
        "df = data.drop(['CARD_CCG_NM', 'HOM_CCG_NM'], axis=1)\n",
        "print(df)"
      ],
      "execution_count": null,
      "outputs": [
        {
          "output_type": "stream",
          "text": [
            "    CARD_SIDO_NM    STD_CLSS_NM HOM_SIDO_NM  AGE  ...     AMT  CNT  year  month\n",
            "0             서울         버스 운송업          강원  10s  ...   99200   28  2019      1\n",
            "1             강원       비알콜 음료점업          강원  10s  ...   14800    3  2019      2\n",
            "2             강원       비알콜 음료점업          강원  10s  ...   33000    3  2019      2\n",
            "3             강원        체인화 편의점          강원  10s  ...  264260   47  2019      2\n",
            "4             강원    빵 및 과자류 소매업          강원  10s  ...  127850   18  2019      3\n",
            "..           ...            ...         ...  ...  ...     ...  ...   ...    ...\n",
            "995           강원        중식 음식점업          강원  10s  ...  328250   35  2020      3\n",
            "996           강원       서양식 음식점업          강원  10s  ...   49700    7  2020      3\n",
            "997           강원       서양식 음식점업          강원  10s  ...   92800    9  2020      3\n",
            "998           강원  기타음식료품위주종합소매업          강원  10s  ...   45570    9  2019      9\n",
            "999           강원        한식 음식점업          강원  10s  ...   25500    3  2019     10\n",
            "\n",
            "[1000 rows x 11 columns]\n"
          ],
          "name": "stdout"
        }
      ]
    },
    {
      "cell_type": "code",
      "metadata": {
        "id": "mhmMijs34ATu",
        "colab_type": "code",
        "colab": {}
      },
      "source": [
        "columns = ['CARD_SIDO_NM', 'STD_CLSS_NM', 'HOM_SIDO_NM', 'AGE', 'SEX_CTGO_CD', 'FLC', 'year', 'month']"
      ],
      "execution_count": null,
      "outputs": []
    },
    {
      "cell_type": "code",
      "metadata": {
        "id": "OHXY9eiA4AXG",
        "colab_type": "code",
        "colab": {
          "base_uri": "https://localhost:8080/",
          "height": 470
        },
        "outputId": "a6643b33-55ea-4528-c9d4-59a3e2490fd6"
      },
      "source": [
        "df = df.groupby(columns).sum().reset_index(drop=False)\n",
        "df"
      ],
      "execution_count": null,
      "outputs": [
        {
          "output_type": "execute_result",
          "data": {
            "text/html": [
              "<div>\n",
              "<style scoped>\n",
              "    .dataframe tbody tr th:only-of-type {\n",
              "        vertical-align: middle;\n",
              "    }\n",
              "\n",
              "    .dataframe tbody tr th {\n",
              "        vertical-align: top;\n",
              "    }\n",
              "\n",
              "    .dataframe thead th {\n",
              "        text-align: right;\n",
              "    }\n",
              "</style>\n",
              "<table border=\"1\" class=\"dataframe\">\n",
              "  <thead>\n",
              "    <tr style=\"text-align: right;\">\n",
              "      <th></th>\n",
              "      <th>CARD_SIDO_NM</th>\n",
              "      <th>STD_CLSS_NM</th>\n",
              "      <th>HOM_SIDO_NM</th>\n",
              "      <th>AGE</th>\n",
              "      <th>SEX_CTGO_CD</th>\n",
              "      <th>FLC</th>\n",
              "      <th>year</th>\n",
              "      <th>month</th>\n",
              "      <th>CSTMR_CNT</th>\n",
              "      <th>AMT</th>\n",
              "      <th>CNT</th>\n",
              "    </tr>\n",
              "  </thead>\n",
              "  <tbody>\n",
              "    <tr>\n",
              "      <th>0</th>\n",
              "      <td>강원</td>\n",
              "      <td>과실 및 채소 소매업</td>\n",
              "      <td>강원</td>\n",
              "      <td>10s</td>\n",
              "      <td>1</td>\n",
              "      <td>1</td>\n",
              "      <td>2019</td>\n",
              "      <td>12</td>\n",
              "      <td>3</td>\n",
              "      <td>50200</td>\n",
              "      <td>4</td>\n",
              "    </tr>\n",
              "    <tr>\n",
              "      <th>1</th>\n",
              "      <td>강원</td>\n",
              "      <td>과실 및 채소 소매업</td>\n",
              "      <td>강원</td>\n",
              "      <td>10s</td>\n",
              "      <td>2</td>\n",
              "      <td>1</td>\n",
              "      <td>2019</td>\n",
              "      <td>11</td>\n",
              "      <td>3</td>\n",
              "      <td>7300</td>\n",
              "      <td>3</td>\n",
              "    </tr>\n",
              "    <tr>\n",
              "      <th>2</th>\n",
              "      <td>강원</td>\n",
              "      <td>그외 기타 종합 소매업</td>\n",
              "      <td>강원</td>\n",
              "      <td>10s</td>\n",
              "      <td>1</td>\n",
              "      <td>1</td>\n",
              "      <td>2019</td>\n",
              "      <td>8</td>\n",
              "      <td>4</td>\n",
              "      <td>7250</td>\n",
              "      <td>5</td>\n",
              "    </tr>\n",
              "    <tr>\n",
              "      <th>3</th>\n",
              "      <td>강원</td>\n",
              "      <td>그외 기타 종합 소매업</td>\n",
              "      <td>강원</td>\n",
              "      <td>10s</td>\n",
              "      <td>2</td>\n",
              "      <td>1</td>\n",
              "      <td>2019</td>\n",
              "      <td>2</td>\n",
              "      <td>5</td>\n",
              "      <td>73800</td>\n",
              "      <td>5</td>\n",
              "    </tr>\n",
              "    <tr>\n",
              "      <th>4</th>\n",
              "      <td>강원</td>\n",
              "      <td>그외 기타 종합 소매업</td>\n",
              "      <td>강원</td>\n",
              "      <td>10s</td>\n",
              "      <td>2</td>\n",
              "      <td>1</td>\n",
              "      <td>2020</td>\n",
              "      <td>2</td>\n",
              "      <td>5</td>\n",
              "      <td>74580</td>\n",
              "      <td>7</td>\n",
              "    </tr>\n",
              "    <tr>\n",
              "      <th>...</th>\n",
              "      <td>...</td>\n",
              "      <td>...</td>\n",
              "      <td>...</td>\n",
              "      <td>...</td>\n",
              "      <td>...</td>\n",
              "      <td>...</td>\n",
              "      <td>...</td>\n",
              "      <td>...</td>\n",
              "      <td>...</td>\n",
              "      <td>...</td>\n",
              "      <td>...</td>\n",
              "    </tr>\n",
              "    <tr>\n",
              "      <th>503</th>\n",
              "      <td>제주</td>\n",
              "      <td>슈퍼마켓</td>\n",
              "      <td>강원</td>\n",
              "      <td>10s</td>\n",
              "      <td>1</td>\n",
              "      <td>1</td>\n",
              "      <td>2019</td>\n",
              "      <td>5</td>\n",
              "      <td>3</td>\n",
              "      <td>10020</td>\n",
              "      <td>3</td>\n",
              "    </tr>\n",
              "    <tr>\n",
              "      <th>504</th>\n",
              "      <td>제주</td>\n",
              "      <td>슈퍼마켓</td>\n",
              "      <td>강원</td>\n",
              "      <td>10s</td>\n",
              "      <td>1</td>\n",
              "      <td>1</td>\n",
              "      <td>2019</td>\n",
              "      <td>10</td>\n",
              "      <td>3</td>\n",
              "      <td>44690</td>\n",
              "      <td>5</td>\n",
              "    </tr>\n",
              "    <tr>\n",
              "      <th>505</th>\n",
              "      <td>제주</td>\n",
              "      <td>체인화 편의점</td>\n",
              "      <td>강원</td>\n",
              "      <td>10s</td>\n",
              "      <td>1</td>\n",
              "      <td>1</td>\n",
              "      <td>2019</td>\n",
              "      <td>5</td>\n",
              "      <td>11</td>\n",
              "      <td>85050</td>\n",
              "      <td>18</td>\n",
              "    </tr>\n",
              "    <tr>\n",
              "      <th>506</th>\n",
              "      <td>제주</td>\n",
              "      <td>체인화 편의점</td>\n",
              "      <td>강원</td>\n",
              "      <td>10s</td>\n",
              "      <td>2</td>\n",
              "      <td>1</td>\n",
              "      <td>2019</td>\n",
              "      <td>10</td>\n",
              "      <td>24</td>\n",
              "      <td>203090</td>\n",
              "      <td>52</td>\n",
              "    </tr>\n",
              "    <tr>\n",
              "      <th>507</th>\n",
              "      <td>충북</td>\n",
              "      <td>한식 음식점업</td>\n",
              "      <td>강원</td>\n",
              "      <td>10s</td>\n",
              "      <td>2</td>\n",
              "      <td>1</td>\n",
              "      <td>2019</td>\n",
              "      <td>7</td>\n",
              "      <td>3</td>\n",
              "      <td>10900</td>\n",
              "      <td>4</td>\n",
              "    </tr>\n",
              "  </tbody>\n",
              "</table>\n",
              "<p>508 rows × 11 columns</p>\n",
              "</div>"
            ],
            "text/plain": [
              "    CARD_SIDO_NM   STD_CLSS_NM HOM_SIDO_NM  AGE  ...  month  CSTMR_CNT     AMT  CNT\n",
              "0             강원   과실 및 채소 소매업          강원  10s  ...     12          3   50200    4\n",
              "1             강원   과실 및 채소 소매업          강원  10s  ...     11          3    7300    3\n",
              "2             강원  그외 기타 종합 소매업          강원  10s  ...      8          4    7250    5\n",
              "3             강원  그외 기타 종합 소매업          강원  10s  ...      2          5   73800    5\n",
              "4             강원  그외 기타 종합 소매업          강원  10s  ...      2          5   74580    7\n",
              "..           ...           ...         ...  ...  ...    ...        ...     ...  ...\n",
              "503           제주          슈퍼마켓          강원  10s  ...      5          3   10020    3\n",
              "504           제주          슈퍼마켓          강원  10s  ...     10          3   44690    5\n",
              "505           제주       체인화 편의점          강원  10s  ...      5         11   85050   18\n",
              "506           제주       체인화 편의점          강원  10s  ...     10         24  203090   52\n",
              "507           충북       한식 음식점업          강원  10s  ...      7          3   10900    4\n",
              "\n",
              "[508 rows x 11 columns]"
            ]
          },
          "metadata": {
            "tags": []
          },
          "execution_count": 32
        }
      ]
    },
    {
      "cell_type": "code",
      "metadata": {
        "id": "xTLMcWxT3_63",
        "colab_type": "code",
        "colab": {}
      },
      "source": [
        ""
      ],
      "execution_count": null,
      "outputs": []
    },
    {
      "cell_type": "code",
      "metadata": {
        "id": "pgeXFkIbS4b0",
        "colab_type": "code",
        "colab": {
          "base_uri": "https://localhost:8080/",
          "height": 557
        },
        "outputId": "f981b8e2-906f-4a6d-ecbf-bc617f1e5b76"
      },
      "source": [
        "# 데이터 정제\n",
        "df = data.drop(['CARD_CCG_NM', 'HOM_CCG_NM'], axis=1)\n",
        "print(df)\n",
        "columns = ['CARD_SIDO_NM', 'STD_CLSS_NM', 'HOM_SIDO_NM', 'AGE', 'SEX_CTGO_CD', 'FLC', 'year', 'month']\n",
        "df = df.groupby(columns).sum().reset_index(drop=False)\n",
        "print(columns)\n",
        "print('===============')\n",
        "print(df)"
      ],
      "execution_count": null,
      "outputs": [
        {
          "output_type": "stream",
          "text": [
            "    CARD_SIDO_NM    STD_CLSS_NM HOM_SIDO_NM  AGE  ...     AMT  CNT  year  month\n",
            "0             서울         버스 운송업          강원  10s  ...   99200   28  2019      1\n",
            "1             강원       비알콜 음료점업          강원  10s  ...   14800    3  2019      2\n",
            "2             강원       비알콜 음료점업          강원  10s  ...   33000    3  2019      2\n",
            "3             강원        체인화 편의점          강원  10s  ...  264260   47  2019      2\n",
            "4             강원    빵 및 과자류 소매업          강원  10s  ...  127850   18  2019      3\n",
            "..           ...            ...         ...  ...  ...     ...  ...   ...    ...\n",
            "995           강원        중식 음식점업          강원  10s  ...  328250   35  2020      3\n",
            "996           강원       서양식 음식점업          강원  10s  ...   49700    7  2020      3\n",
            "997           강원       서양식 음식점업          강원  10s  ...   92800    9  2020      3\n",
            "998           강원  기타음식료품위주종합소매업          강원  10s  ...   45570    9  2019      9\n",
            "999           강원        한식 음식점업          강원  10s  ...   25500    3  2019     10\n",
            "\n",
            "[1000 rows x 11 columns]\n",
            "['CARD_SIDO_NM', 'STD_CLSS_NM', 'HOM_SIDO_NM', 'AGE', 'SEX_CTGO_CD', 'FLC', 'year', 'month']\n",
            "===============\n",
            "    CARD_SIDO_NM   STD_CLSS_NM HOM_SIDO_NM  AGE  ...  month  CSTMR_CNT     AMT  CNT\n",
            "0             강원   과실 및 채소 소매업          강원  10s  ...     12          3   50200    4\n",
            "1             강원   과실 및 채소 소매업          강원  10s  ...     11          3    7300    3\n",
            "2             강원  그외 기타 종합 소매업          강원  10s  ...      8          4    7250    5\n",
            "3             강원  그외 기타 종합 소매업          강원  10s  ...      2          5   73800    5\n",
            "4             강원  그외 기타 종합 소매업          강원  10s  ...      2          5   74580    7\n",
            "..           ...           ...         ...  ...  ...    ...        ...     ...  ...\n",
            "503           제주          슈퍼마켓          강원  10s  ...      5          3   10020    3\n",
            "504           제주          슈퍼마켓          강원  10s  ...     10          3   44690    5\n",
            "505           제주       체인화 편의점          강원  10s  ...      5         11   85050   18\n",
            "506           제주       체인화 편의점          강원  10s  ...     10         24  203090   52\n",
            "507           충북       한식 음식점업          강원  10s  ...      7          3   10900    4\n",
            "\n",
            "[508 rows x 11 columns]\n"
          ],
          "name": "stdout"
        }
      ]
    },
    {
      "cell_type": "markdown",
      "metadata": {
        "id": "KIEe4PMKVlxx",
        "colab_type": "text"
      },
      "source": [
        "## 라벨인코딩\n",
        "- 사이킷런의 ML알고리즘은 결측치가 허용되지 않는다.\n",
        "- 사이킷런의 머신러닝 알고리즘은 문자열 값을 입력 값으로 허용하지 않는다.\n",
        "  - 따라서, 이를 숫자형으로 변환해야 한다.\n",
        "  - 이를 데이터 인코딩이라 부른다.\n",
        "- 데이터 인코딩에는 크게 두가지 있다.\n",
        "  - 레이블 인코딩 VS. 원-핫 인코딩\n",
        "- 레이블 인코딩은 카테고리 피처를 코드형 숫자 값으로 변환한다.\n",
        "  - 이 때, 일괄적으로 숫자로 변환이 되면 선형회귀와 같은 ML 알고리즘에는 적용하지 않는다. 이유는 숫자 값의 경우 크고 작음에 대한 특성이 작용한다.\n",
        "  - 그러나, 본 예제에서는 주로 트리 계열을 알고리즘을 사용할 것이기 때문에 크게 상관은 없다.\n",
        "- 원핫 인코딩은 피처 값의 유형에 따라 새로운 피처를 추가해 고유 값에 해당하는 칼럼에만 1을 표시하고 나머지 칼럼에는 0을 표시한다.\n",
        "- 본 실습에서는 주로 라벨 인코딩만 사용하고 진행해본다."
      ]
    },
    {
      "cell_type": "code",
      "metadata": {
        "id": "TbL7WbrTVVis",
        "colab_type": "code",
        "colab": {
          "base_uri": "https://localhost:8080/",
          "height": 305
        },
        "outputId": "bbd564f4-3b56-461f-f5f5-0e454a598f97"
      },
      "source": [
        "# 인코딩\n",
        "dtypes = df.dtypes\n",
        "encoders = {}\n",
        "for column in df.columns:\n",
        "    if str(dtypes[column]) == 'object':\n",
        "        encoder = LabelEncoder()\n",
        "        encoder.fit(df[column])\n",
        "        encoders[column] = encoder\n",
        "print(encoders)\n",
        "print('=============================')\n",
        "\n",
        "df_num = df.copy()        \n",
        "for column in encoders.keys():\n",
        "    encoder = encoders[column]\n",
        "    df_num[column] = encoder.transform(df[column])\n",
        "print(df_num)"
      ],
      "execution_count": null,
      "outputs": [
        {
          "output_type": "stream",
          "text": [
            "{'CARD_SIDO_NM': LabelEncoder(), 'STD_CLSS_NM': LabelEncoder(), 'HOM_SIDO_NM': LabelEncoder(), 'AGE': LabelEncoder()}\n",
            "=============================\n",
            "     CARD_SIDO_NM  STD_CLSS_NM  HOM_SIDO_NM  AGE  ...  month  CSTMR_CNT     AMT  CNT\n",
            "0               0            0            0    0  ...      1         10  106600   14\n",
            "1               0            1            0    0  ...      3          3  125000    4\n",
            "2               0            1            0    0  ...     11          3   80000    3\n",
            "3               0            3            0    0  ...      2          5   73800    5\n",
            "4               0            3            0    0  ...      8          3   25830    6\n",
            "..            ...          ...          ...  ...  ...    ...        ...     ...  ...\n",
            "491             6           24            0    0  ...      5          3   17000    4\n",
            "492             7           24            0    0  ...      5          7   41600   10\n",
            "493             7           24            0    0  ...      5          5   30450    6\n",
            "494             8            4            0    0  ...      6          4  174460    4\n",
            "495             8            4            0    0  ...     12          7  260940    8\n",
            "\n",
            "[496 rows x 11 columns]\n"
          ],
          "name": "stdout"
        }
      ]
    },
    {
      "cell_type": "markdown",
      "metadata": {
        "id": "he-McycLWkzX",
        "colab_type": "text"
      },
      "source": [
        "## 데이터셋 분리\n",
        "- Train 데이터를 분리해서 validate 데이터셋을 생성한다."
      ]
    },
    {
      "cell_type": "code",
      "metadata": {
        "id": "VLM4tJXfVvdS",
        "colab_type": "code",
        "colab": {
          "base_uri": "https://localhost:8080/",
          "height": 35
        },
        "outputId": "fbcbcefc-4a2a-41ce-fa26-548865e46867"
      },
      "source": [
        "from sklearn.model_selection import train_test_split\n",
        "\n",
        "X_data, y_data = df_num.loc[:, df_num.columns != 'AMT'], df.loc[:, df_num.columns == 'AMT']\n",
        "y_target = y_data['AMT']\n",
        "X_data = X_data.drop(['CSTMR_CNT', 'CNT'], axis = 1)\n",
        "X_train, X_test, y_train, y_test = train_test_split(X_data, y_target, test_size = 0.3, random_state = 126, shuffle = True)\n",
        "X_train.shape, y_train.shape, X_test.shape, y_test.shape\n",
        "\n"
      ],
      "execution_count": null,
      "outputs": [
        {
          "output_type": "execute_result",
          "data": {
            "text/plain": [
              "((347, 8), (347,), (149, 8), (149,))"
            ]
          },
          "metadata": {
            "tags": []
          },
          "execution_count": 31
        }
      ]
    },
    {
      "cell_type": "markdown",
      "metadata": {
        "id": "LlWYEQU-YFtv",
        "colab_type": "text"
      },
      "source": [
        "- test_size: 훈련데이터와 테스트 데이터로 나누는 비율이다. 디폴트는 0.25이며, 이는 25%에 해당한다.\n",
        "- random_state: 동일한 학습/테스트용 데이터 세트를 생성하기 위해 주어지는 난수 값. (실험의 재현성)\n",
        "- shuffle: 데이터 분리 전 데이터를 섞을지 결정함. 디폴트는 True이며, 데이터를 분산시켜서 좀 더 효율적인 학습 및 테스트 데이터 세트를 만드는 데 사용함."
      ]
    },
    {
      "cell_type": "markdown",
      "metadata": {
        "id": "ZI9ZhXn_YinF",
        "colab_type": "text"
      },
      "source": [
        "## 종속변수확인\n",
        "- 라벨 인코딩을 진행하기 전에 타겟변수(=종속변수)의 모양을 확인한다.\n",
        "- Target값의 분포가 왜곡되면, 예측 성능이 저하되는 경우가 발생한다.\n",
        "- 빠르게 시각화를 진행해서 확인해보자."
      ]
    },
    {
      "cell_type": "code",
      "metadata": {
        "id": "MQIxkcGLXWob",
        "colab_type": "code",
        "colab": {
          "base_uri": "https://localhost:8080/",
          "height": 635
        },
        "outputId": "f63490cf-e639-4f13-b254-f51493cd777f"
      },
      "source": [
        "sns.distplot(y_train , fit=norm);\n",
        "(mu, sigma) = norm.fit(y_train)\n",
        "print( '\\n mu = {:.2f} and sigma = {:.2f}\\n'.format(mu, sigma))\n",
        "plt.legend(['Normal dist. ($\\mu=$ {:.2f} and $\\sigma=$ {:.2f} )'.format(mu, sigma)],\n",
        "            loc='best')\n",
        "plt.ylabel('Frequency')\n",
        "plt.title('AMT distribution')\n",
        "\n",
        "fig = plt.figure()\n",
        "res = stats.probplot(y_train, plot=plt)\n",
        "plt.show()"
      ],
      "execution_count": null,
      "outputs": [
        {
          "output_type": "stream",
          "text": [
            "\n",
            " mu = 642744.78 and sigma = 1446267.20\n",
            "\n"
          ],
          "name": "stdout"
        },
        {
          "output_type": "display_data",
          "data": {
            "image/png": "[encoded data removed]",
            "text/plain": [
              "<Figure size 432x288 with 1 Axes>"
            ]
          },
          "metadata": {
            "tags": [],
            "needs_background": "light"
          }
        },
        {
          "output_type": "display_data",
          "data": {
            "image/png": "[encoded data removed]",
            "text/plain": [
              "<Figure size 432x288 with 1 Axes>"
            ]
          },
          "metadata": {
            "tags": [],
            "needs_background": "light"
          }
        }
      ]
    },
    {
      "cell_type": "markdown",
      "metadata": {
        "id": "cuHtBCO9ZX82",
        "colab_type": "text"
      },
      "source": [
        "- 위 결과가 말해주듯이 타겟변수를 정규화 하는 작업이 필요합니다.\n",
        "- 정규화 작업은 1줄이면 가능합니다."
      ]
    },
    {
      "cell_type": "code",
      "metadata": {
        "id": "_46zDxaDYoqW",
        "colab_type": "code",
        "colab": {
          "base_uri": "https://localhost:8080/",
          "height": 635
        },
        "outputId": "77e309ee-df50-470f-b847-4a54936f0e79"
      },
      "source": [
        "y_train = np.log1p(y_train)\n",
        "\n",
        "sns.distplot(y_train , fit=norm);\n",
        "(mu, sigma) = norm.fit(y_train)\n",
        "print( '\\n mu = {:.2f} and sigma = {:.2f}\\n'.format(mu, sigma))\n",
        "plt.legend(['Normal dist. ($\\mu=$ {:.2f} and $\\sigma=$ {:.2f} )'.format(mu, sigma)],\n",
        "            loc='best')\n",
        "plt.ylabel('Frequency')\n",
        "plt.title('AMT distribution')\n",
        "\n",
        "fig = plt.figure()\n",
        "res = stats.probplot(y_train, plot=plt)\n",
        "plt.show()"
      ],
      "execution_count": null,
      "outputs": [
        {
          "output_type": "stream",
          "text": [
            "\n",
            " mu = 12.22 and sigma = 1.52\n",
            "\n"
          ],
          "name": "stdout"
        },
        {
          "output_type": "display_data",
          "data": {
            "image/png": "[encoded data removed]",
            "text/plain": [
              "<Figure size 432x288 with 1 Axes>"
            ]
          },
          "metadata": {
            "tags": [],
            "needs_background": "light"
          }
        },
        {
          "output_type": "display_data",
          "data": {
            "image/png": "[encoded data removed]",
            "text/plain": [
              "<Figure size 432x288 with 1 Axes>"
            ]
          },
          "metadata": {
            "tags": [],
            "needs_background": "light"
          }
        }
      ]
    },
    {
      "cell_type": "markdown",
      "metadata": {
        "id": "5F-4LAz8nDE9",
        "colab_type": "text"
      },
      "source": [
        "# 교차검증 및 하이퍼 파라미터 튜닝\n",
        "- 본 장에서는 교차검증을 실시하는 목적과 파라미터 튜닝에 대해 배울 것이다."
      ]
    },
    {
      "cell_type": "markdown",
      "metadata": {
        "id": "HQH84X4lnGT0",
        "colab_type": "text"
      },
      "source": [
        "## (1) 교차검증의 목적\n",
        "- 가장 중요한 목적은 과적합(Overfitting)을 방지하기 위해서다.\n",
        "- 과적합은 무엇인가?\n",
        " - 가령, 교고서 범위 내의 있는 문제는 잘 풀지만, 모의고사 또는 수능처럼 약간   응용된 문제가 나오면 잘 풀지 못하는 것과 유사하다.\n",
        " - 즉, 고정된 학습데이터와 테스트 데이터로 평가 하다 보니, 테스트 데이터에만  최적의 성능을 발휘할 수 있도록 편향되게 모델이 학습하게 되는 현상을 말한다.\n",
        " - 이러한 문제점을 개선하기 위해 교차 검증을 이용해 더 다양한 학습과 평가를 한다.\n",
        " - 즉, 본 게임에 앞서서 여러번의 사전 모의평가를 진행하는 것과 유사하다."
      ]
    },
    {
      "cell_type": "markdown",
      "metadata": {
        "id": "JHDZHbdgnXL8",
        "colab_type": "text"
      },
      "source": [
        "## (2) K폴드 교차 검증\n",
        "- K개의 데이터 세트를 만들고, 검증 평가를 반복적으로 수행하는 방법이다.\n",
        "- 이 때, 5개의 평가를 평균한 결과를 가지고 예측 성능을 평가한다.\n",
        "- 아래 그림을 보자.\n",
        "\n",
        "- 기존 처럼, 훈련/테스트 데이터로 분리 한다.\n",
        "- 그리고, 해당 모델을 처음에 분할하였던 Test Set을 활용하여 평가 한다.\n",
        "- 층화추출 K폴드도 있다. 데이터의 분포가 불균형을 이룰 때 적용하면 모형의 예측 성능보다는 보다 안정성 있게 모델이 만들어질 수 있다.\n",
        " - 참조: Stratified Sampling"
      ]
    },
    {
      "cell_type": "markdown",
      "metadata": {
        "id": "YZfgRYsynXS7",
        "colab_type": "text"
      },
      "source": [
        "## (3) RMSLE 성능 평가 방법\n",
        "- 회귀 모형의 대표적인 평가 지표이다.\n",
        " - RMSLE: Root Mean Square Log Error는 기존 RMSE에 로그를 적용해준 지표다.\n",
        "- 아쉽게도 sklearn에는 해당 옵션이 제공되지 않기 때문에 RMSLE를 수행하는 성능 평가 함수를 직접 만들어 본다.\n",
        "- log값 변환 시 NaN등의 이슈로 log가 아닌 log1p()를 이용해 계산한다.\n",
        "- 이 때, log1p()로 변환된 값은 np.expm1() 함수로 쉽게 원래의 스케일로 복원될 수 있다."
      ]
    },
    {
      "cell_type": "code",
      "metadata": {
        "id": "xWoNGBK5okKG",
        "colab_type": "code",
        "colab": {}
      },
      "source": [
        "def rmsle(y, pred): \n",
        "  log_y = np.log1p(y)\n",
        "  log_pred = np.log1p(pred)\n",
        "  squared_error = (log_y - log_pred)**2\n",
        "  rmsle = np.sqrt(np.mean(squared_error))\n",
        "  return print('Test Data RMSLE: {0:.3f}'.format(rmsle))"
      ],
      "execution_count": null,
      "outputs": []
    },
    {
      "cell_type": "markdown",
      "metadata": {
        "id": "TUo2knRGnrAF",
        "colab_type": "text"
      },
      "source": [
        "## (4) 하이퍼 파라미터 및 튜닝\n",
        "- 1차적으로 모형은 GBM만 사용한다.\n",
        "\n",
        "- 이 때, 보통 모형 알고리즘에 대한 하이퍼 파라미터 튜닝도 같이 진행하게 된다.\n",
        "\n",
        " - n_estimators: weak learner가 순차적으로 오류를 보정함. 개수가 많아지면 성능이 좋아지지만, 수행시간이 오래 발생될 수 있음.\n",
        " - learning_rate: 오차를 얼마나 강하게 보정할 것인지 제어\n",
        " - max_depth: 복잡도를 너무 높이지 말고 트리의 깊이가 정해진 숫자보다 깊어지지 않게 함.\n",
        " - min_samples_leaf: Leaf Node가 되기 위한 최소 샘플 개수\n",
        " - loss: huber, 이상치에 민감하지 않도록 보정해주는 함수.\n",
        " - max_features: 다차원 독립 변수 중 선택할 차원의 수를 의미함\n",
        "- 이 때, 보통 최적의 하이퍼 파라미터 튜닝을 위해 값을 조정해서 알고리즘의 예측 성능을 개선한다고 했다.\n",
        "\n",
        "- GridSearchCV와 RandomizedSearchCV로 구분되는데, 이 부분에 대한 설명은 다음 Chapter에서 진행하도록 한다.\n",
        "\n",
        " - 간단하게 설명하면, 파라미터를 순차적으로 변경하면서 최고의 성능을 가지는 파라미터 조합을 찾는 과정이다."
      ]
    },
    {
      "cell_type": "markdown",
      "metadata": {
        "id": "gI0T7yhan8LM",
        "colab_type": "text"
      },
      "source": [
        "## (5) 세 모델 교차검증\n",
        "- 지금까지 설명한 내용을 코드로 작성한다.\n",
        "- 이 때, 최적의 파라미터를 찾기 위한 과정도 추가했다.\n",
        "- 이제 두개의 모형을 만들어야 한다.\n",
        " - 이런 경우에는 모형 선언, 파라미터 지정, 교차검증 수행, 모형 평가 등을 모두 담을 수 있도록 함수화 해야 하는 코드를 작성한다."
      ]
    },
    {
      "cell_type": "markdown",
      "metadata": {
        "id": "wY7i-Ov3n8Tj",
        "colab_type": "text"
      },
      "source": [
        "## (6) 모형 선언 및 학습"
      ]
    },
    {
      "cell_type": "code",
      "metadata": {
        "id": "ZglFglsRZo29",
        "colab_type": "code",
        "colab": {}
      },
      "source": [
        "# 교차검증 수행\n",
        "def get_best_params_model(model, params):\n",
        "  cv_model = GridSearchCV(model, param_grid=params, scoring=\"neg_mean_squared_error\", cv = 5)\n",
        "  cv_model.fit(X_train, y_train)\n",
        "  print(\"----\", model.__class__.__name__, \"----\")\n",
        "  print(\"GridSearchCV 최적 하이퍼 파라미터 :\", cv_model.best_params_)\n",
        "\n",
        "  rmse = np.sqrt(-1*cv_model.best_score_)\n",
        "  print(\"GridSearchCV 최적 평균 RMSE값 :\", np.round(rmse, 3))\n",
        "\n",
        "  eval_pred = cv_model.predict(X_test)\n",
        "  eval_pred = np.expm1(eval_pred)\n",
        "  rmsle(y_test, eval_pred)\n",
        "  \n",
        "  return cv_model.best_estimator_"
      ],
      "execution_count": null,
      "outputs": []
    },
    {
      "cell_type": "code",
      "metadata": {
        "id": "0YHuZWz8oFs7",
        "colab_type": "code",
        "colab": {
          "base_uri": "https://localhost:8080/",
          "height": 431
        },
        "outputId": "a892a1c7-9242-4f01-cbab-9174c04d7c7c"
      },
      "source": [
        "from sklearn.linear_model import LinearRegression\n",
        "\n",
        "# 4개의 모델 선언\n",
        "xgb = XGBRegressor(random_state=0)\n",
        "gbm = GradientBoostingRegressor(random_state=0)\n",
        "lgb = LGBMRegressor(random_state=0)  \n",
        "\n",
        "params = {'n_estimators': [1000, 2000]}\n",
        "\n",
        "models = [xgb, gbm, lgb] # 모형 하나 추가 함\n",
        "best_models = []\n",
        "for model in models:\n",
        "  new_model = get_best_params_model(model=model, params=params)\n",
        "  best_models.append(new_model)"
      ],
      "execution_count": null,
      "outputs": [
        {
          "output_type": "stream",
          "text": [
            "[02:37:48] WARNING: /workspace/src/objective/regression_obj.cu:152: reg:linear is now deprecated in favor of reg:squarederror.\n",
            "[02:37:48] WARNING: /workspace/src/objective/regression_obj.cu:152: reg:linear is now deprecated in favor of reg:squarederror.\n",
            "[02:37:48] WARNING: /workspace/src/objective/regression_obj.cu:152: reg:linear is now deprecated in favor of reg:squarederror.\n",
            "[02:37:48] WARNING: /workspace/src/objective/regression_obj.cu:152: reg:linear is now deprecated in favor of reg:squarederror.\n",
            "[02:37:49] WARNING: /workspace/src/objective/regression_obj.cu:152: reg:linear is now deprecated in favor of reg:squarederror.\n",
            "[02:37:49] WARNING: /workspace/src/objective/regression_obj.cu:152: reg:linear is now deprecated in favor of reg:squarederror.\n",
            "[02:37:49] WARNING: /workspace/src/objective/regression_obj.cu:152: reg:linear is now deprecated in favor of reg:squarederror.\n",
            "[02:37:49] WARNING: /workspace/src/objective/regression_obj.cu:152: reg:linear is now deprecated in favor of reg:squarederror.\n",
            "[02:37:50] WARNING: /workspace/src/objective/regression_obj.cu:152: reg:linear is now deprecated in favor of reg:squarederror.\n",
            "[02:37:50] WARNING: /workspace/src/objective/regression_obj.cu:152: reg:linear is now deprecated in favor of reg:squarederror.\n",
            "[02:37:50] WARNING: /workspace/src/objective/regression_obj.cu:152: reg:linear is now deprecated in favor of reg:squarederror.\n",
            "---- XGBRegressor ----\n",
            "GridSearchCV 최적 하이퍼 파라미터 : {'n_estimators': 1000}\n",
            "GridSearchCV 최적 평균 RMSE값 : 1.477\n",
            "Test Data RMSLE: 1.454\n",
            "---- GradientBoostingRegressor ----\n",
            "GridSearchCV 최적 하이퍼 파라미터 : {'n_estimators': 1000}\n",
            "GridSearchCV 최적 평균 RMSE값 : 1.505\n",
            "Test Data RMSLE: 1.506\n",
            "---- LGBMRegressor ----\n",
            "GridSearchCV 최적 하이퍼 파라미터 : {'n_estimators': 1000}\n",
            "GridSearchCV 최적 평균 RMSE값 : 1.514\n",
            "Test Data RMSLE: 1.457\n"
          ],
          "name": "stdout"
        }
      ]
    },
    {
      "cell_type": "markdown",
      "metadata": {
        "id": "iP-CPKwYotrV",
        "colab_type": "text"
      },
      "source": [
        "- 실제 테스트 데이터 셋 모형을 평가한 결과 세 모형을 비교한 결과 각각 []의 값이 나왔다.\n",
        "- 그러나, 위 평가모형 결과가 실제와 똑같을 거라 생각하면 안된다.\n",
        "- 다만, 최종 제출폼을 작성하기에 앞서서, 중간에 평가 측정표를 검증하여 마지막 모형을 선정하는 중간 지표로 삼기에는 적절하다.\n",
        "- 이번에는 stacking model을 사용해야 하기 때문에, 관련 코드를 추가로 작성한다."
      ]
    },
    {
      "cell_type": "markdown",
      "metadata": {
        "id": "_jbAfDcMoy3G",
        "colab_type": "text"
      },
      "source": [
        "## (7) 스태킹 알고리즘 테스트\n",
        "- 실제 스태킹 알고리즘 테스트를 진행해서, 성능의 차이를 확인해본다."
      ]
    },
    {
      "cell_type": "code",
      "metadata": {
        "id": "ohOKNJPWotOF",
        "colab_type": "code",
        "colab": {
          "base_uri": "https://localhost:8080/",
          "height": 53
        },
        "outputId": "c778b9ea-7c37-4fff-bae2-ad701095931f"
      },
      "source": [
        "# 모형 불러오기\n",
        "xgb_reg = best_models[0]\n",
        "gbm_reg = best_models[1]\n",
        "lgb_reg = best_models[2]\n",
        "\n",
        "# 예측 데이터 세트\n",
        "xgb_pred = xgb_reg.predict(X_test)\n",
        "xgb_pred = np.expm1(xgb_pred)\n",
        "\n",
        "gbm_pred = gbm_reg.predict(X_test)\n",
        "gbm_pred = np.expm1(gbm_pred)\n",
        "\n",
        "lgb_pred = lgb_reg.predict(X_test)\n",
        "lgb_pred = np.expm1(lgb_pred)\n",
        "\n",
        "pred = np.array([xgb_pred, gbm_pred, lgb_pred])\n",
        "print(pred.shape)\n",
        "\n",
        "# transpose를 이용해 행과 열의 위치 교환\n",
        "pred = np.transpose(pred)\n",
        "print(pred.shape)"
      ],
      "execution_count": null,
      "outputs": [
        {
          "output_type": "stream",
          "text": [
            "(3, 149)\n",
            "(149, 3)\n"
          ],
          "name": "stdout"
        }
      ]
    },
    {
      "cell_type": "markdown",
      "metadata": {
        "id": "qY3zq569o5o2",
        "colab_type": "text"
      },
      "source": [
        "- 이렇게 예측 데이터로 생성된 데이터 세트를 기반으로 최종 메타 모델을 만든다."
      ]
    },
    {
      "cell_type": "code",
      "metadata": {
        "id": "TcftzvlboHTS",
        "colab_type": "code",
        "colab": {
          "base_uri": "https://localhost:8080/",
          "height": 35
        },
        "outputId": "43cd2a59-6323-41f2-e76b-ad03f7635c11"
      },
      "source": [
        "final = xgb_pred*0.40 + gbm_pred*0.40 + lgb_pred*0.20\n",
        "rmsle(y_test, final)"
      ],
      "execution_count": null,
      "outputs": [
        {
          "output_type": "stream",
          "text": [
            "Test Data RMSLE: 1.444\n"
          ],
          "name": "stdout"
        }
      ]
    },
    {
      "cell_type": "markdown",
      "metadata": {
        "id": "0E6BiqHco-GF",
        "colab_type": "text"
      },
      "source": [
        "- 위 기준으로 봤을 때는 기존 성능보다 RMSLE기준 보다 성능이 조금 향상되는 것을 확인 할 수 있었다.\n",
        "- 그러나, 실제로는 어떻게 될지 모르기에 위 코드를 다시한번 적용해보는 코드를 구성해본다.\n",
        "- 위 작성된 코드를 그대로 사용할 것이다."
      ]
    },
    {
      "cell_type": "markdown",
      "metadata": {
        "id": "FzHl-eZ7pBqn",
        "colab_type": "text"
      },
      "source": [
        "## (8) 예측 템플릿 작성\n",
        "- 예측 템플릿을 작성한다."
      ]
    },
    {
      "cell_type": "code",
      "metadata": {
        "id": "awUUU7Ieo9VT",
        "colab_type": "code",
        "colab": {}
      },
      "source": [
        "from itertools import product\n",
        "\n",
        "# 예측 템플릿 만들기\n",
        "CARD_SIDO_NMs = df_num['CARD_SIDO_NM'].unique()\n",
        "STD_CLSS_NMs  = df_num['STD_CLSS_NM'].unique()\n",
        "HOM_SIDO_NMs  = df_num['HOM_SIDO_NM'].unique()\n",
        "AGEs          = df_num['AGE'].unique()\n",
        "SEX_CTGO_CDs  = df_num['SEX_CTGO_CD'].unique()\n",
        "FLCs          = df_num['FLC'].unique()\n",
        "years         = [2020]\n",
        "months        = [4, 7]\n",
        "\n",
        "comb_list = [CARD_SIDO_NMs, STD_CLSS_NMs,HOM_SIDO_NMs, AGEs, SEX_CTGO_CDs, FLCs, years, months]\n",
        "temp = np.array(list(product(*comb_list)))\n",
        "\n",
        "train_features = df_num.drop(['CSTMR_CNT', 'AMT', 'CNT'], axis=1)\n",
        "temp = pd.DataFrame(data=temp, columns=train_features.columns)"
      ],
      "execution_count": null,
      "outputs": []
    },
    {
      "cell_type": "code",
      "metadata": {
        "id": "X0uyjIbrpFnz",
        "colab_type": "code",
        "colab": {}
      },
      "source": [
        "# 예측 데이터 세트\n",
        "xgb_pred = xgb_reg.predict(temp)\n",
        "xgb_pred = np.expm1(xgb_pred)\n",
        "\n",
        "gbm_pred = gbm_reg.predict(temp)\n",
        "gbm_pred = np.expm1(gbm_pred)\n",
        "\n",
        "lgb_pred = lgb_reg.predict(temp)\n",
        "lgb_pred = np.expm1(lgb_pred)"
      ],
      "execution_count": null,
      "outputs": []
    },
    {
      "cell_type": "code",
      "metadata": {
        "id": "NzMOVI9dpHNT",
        "colab_type": "code",
        "colab": {}
      },
      "source": [
        "final = xgb_pred*0.40 + gbm_pred*0.40 + lgb_pred*0.20\n",
        "\n",
        "temp['AMT'] = np.round(final, 0)\n",
        "temp['REG_YYMM'] = temp['year']*100 + temp['month']\n",
        "temp = temp[['REG_YYMM', 'CARD_SIDO_NM', 'STD_CLSS_NM', 'AMT']]\n",
        "temp = temp.groupby(['REG_YYMM', 'CARD_SIDO_NM', 'STD_CLSS_NM']).sum().reset_index(drop=False)"
      ],
      "execution_count": null,
      "outputs": []
    },
    {
      "cell_type": "markdown",
      "metadata": {
        "id": "pJers-y3pKQ-",
        "colab_type": "text"
      },
      "source": [
        "- 라벨 인코딩 했던 부분을 제출을 위해 다시 디코딩하는 작업을 진행한다."
      ]
    },
    {
      "cell_type": "code",
      "metadata": {
        "id": "ZDS9rKdLpJpT",
        "colab_type": "code",
        "colab": {}
      },
      "source": [
        "# 디코딩 \n",
        "temp['CARD_SIDO_NM'] = encoders['CARD_SIDO_NM'].inverse_transform(temp['CARD_SIDO_NM'])\n",
        "temp['STD_CLSS_NM'] = encoders['STD_CLSS_NM'].inverse_transform(temp['STD_CLSS_NM'])"
      ],
      "execution_count": null,
      "outputs": []
    },
    {
      "cell_type": "code",
      "metadata": {
        "id": "MFfraMkQpO6z",
        "colab_type": "code",
        "colab": {
          "base_uri": "https://localhost:8080/",
          "height": 125
        },
        "outputId": "96e50eba-b481-4f2d-a928-d41e0c4b908c"
      },
      "source": [
        "print(temp.head())"
      ],
      "execution_count": null,
      "outputs": [
        {
          "output_type": "stream",
          "text": [
            "   REG_YYMM CARD_SIDO_NM        STD_CLSS_NM        AMT\n",
            "0    202004           강원            골프장 운영업  1582703.0\n",
            "1    202004           강원        과실 및 채소 소매업  1843834.0\n",
            "2    202004           강원  관광 민예품 및 선물용품 소매업  1841467.0\n",
            "3    202004           강원       그외 기타 종합 소매업  1751187.0\n",
            "4    202004           강원       기타 대형 종합 소매업  3075192.0\n"
          ],
          "name": "stdout"
        }
      ]
    },
    {
      "cell_type": "markdown",
      "metadata": {
        "id": "wDDSsBicpRhm",
        "colab_type": "text"
      },
      "source": [
        "## (9) Submission 파일 작업 및 내보내기"
      ]
    },
    {
      "cell_type": "code",
      "metadata": {
        "id": "7v_peMLEpQk7",
        "colab_type": "code",
        "colab": {}
      },
      "source": [
        "submission = client.query('''\n",
        "  SELECT \n",
        "    * \n",
        "  FROM `jeju-analy.jeju_data_ver1.submission` \n",
        "  ''').to_dataframe()"
      ],
      "execution_count": null,
      "outputs": []
    },
    {
      "cell_type": "code",
      "metadata": {
        "id": "L6yO43YCpVak",
        "colab_type": "code",
        "colab": {
          "base_uri": "https://localhost:8080/",
          "height": 125
        },
        "outputId": "706ac573-888c-4b49-cb12-a06260ee660a"
      },
      "source": [
        "submission = submission.drop(['AMT'], axis=1)\n",
        "submission = submission.merge(temp, left_on=['REG_YYMM', 'CARD_SIDO_NM', 'STD_CLSS_NM'], right_on=['REG_YYMM', 'CARD_SIDO_NM', 'STD_CLSS_NM'], how='left')\n",
        "submission['AMT'] = submission['AMT'].fillna(0)\n",
        "print(submission.head())"
      ],
      "execution_count": null,
      "outputs": [
        {
          "output_type": "stream",
          "text": [
            "   id  REG_YYMM CARD_SIDO_NM           STD_CLSS_NM        AMT\n",
            "0   0    202004           강원            건강보조식품 소매업        0.0\n",
            "1   1    202004           강원               골프장 운영업  1582703.0\n",
            "2   2    202004           강원           과실 및 채소 소매업  1843834.0\n",
            "3   3    202004           강원     관광 민예품 및 선물용품 소매업  1841467.0\n",
            "4   4    202004           강원  그외 기타 분류안된 오락관련 서비스업        0.0\n"
          ],
          "name": "stdout"
        }
      ]
    },
    {
      "cell_type": "code",
      "metadata": {
        "id": "tadUZcewqWQD",
        "colab_type": "code",
        "colab": {}
      },
      "source": [
        "submission.to_csv('submission.csv', encoding='utf-8-sig', index=False)"
      ],
      "execution_count": null,
      "outputs": []
    },
    {
      "cell_type": "code",
      "metadata": {
        "id": "Ztty7JpTqX47",
        "colab_type": "code",
        "colab": {}
      },
      "source": [
        ""
      ],
      "execution_count": null,
      "outputs": []
    }
  ]
}